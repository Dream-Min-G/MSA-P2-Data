{
 "cells": [
  {
   "cell_type": "markdown",
   "metadata": {},
   "source": [
    "# Starbucks Sentiment Analysis\n",
    "\n",
    "## Objective of notebook\n",
    "\n",
    "#### To produce sentiment analysis data of starbucks and find points of interests or potential ventures\n",
    "Investigation shows the subreddit as space for Starbuck's associates and fans to share opinions and socialise.\n",
    "This provided an oppurtunity to explore the general attitude towards the brand as well as potential points of interests to explore.\n",
    "\n",
    "## Target Data\n",
    "\n",
    "- The comments of the first 200 posts on the Starbucks subreddit will be investigated\n",
    "\n",
    "## Method\n",
    "\n",
    "- Collect data via API call from Reddit\n",
    "- Clean data to perform sentiment analysis\n",
    "- Explore data to identify patterns"
   ]
  },
  {
   "cell_type": "markdown",
   "metadata": {},
   "source": [
    "#### Relevent files:\n",
    "\n",
    "- **StarbucksComments_VaderSentiment.csv** - *Sentiment score with the Vader Package*\n",
    "\n",
    "- **StarbucksComments_TextblobSentiment.csv** - *Sentiment score with the Textblob Package*\n",
    "\n",
    "- **Starbucks_post_Dataset.csv** - *Starbucks subreddit Posts dataset for quicker setup of project*\n",
    "\n",
    "- **Starbucks_Replies_Dataset.csv** - *Starbucks subreddit Comments dataset for quicker setup of project*\n",
    "\n"
   ]
  },
  {
   "cell_type": "markdown",
   "metadata": {},
   "source": [
    "# 1. Building Database"
   ]
  },
  {
   "cell_type": "markdown",
   "metadata": {},
   "source": [
    "#### Gathering Data"
   ]
  },
  {
   "cell_type": "markdown",
   "metadata": {},
   "source": [
    "List of all imported packages"
   ]
  },
  {
   "cell_type": "code",
   "execution_count": 1,
   "metadata": {},
   "outputs": [],
   "source": [
    "import re # regular expressions for filtering and cleaning data\n",
    "import api_funcs # api calling from reddit\n",
    "import nltk # to process text\n",
    "import random \n",
    "import pandas as pd \n",
    "import wordcloud # to find text frequency\n",
    "import matplotlib.pyplot as plt # for plotting\n",
    "import seaborn as sns; sns.set() # visualisations\n",
    "import numpy as np\n",
    "\n",
    "from sklearn.model_selection import train_test_split # for training classifier\n",
    "from sklearn.feature_extraction.text import CountVectorizer, TfidfVectorizer # for converting text to arrays\n",
    "from sklearn.naive_bayes import MultinomialNB, GaussianNB # for custom classifiers\n",
    "from sklearn import metrics\n",
    "from textblob.sentiments import NaiveBayesAnalyzer, PatternAnalyzer # to apply textblob Analysis\n",
    "from textblob import Blobber\n",
    "from nltk.sentiment.vader import SentimentIntensityAnalyzer, VaderConstants # Vader - Pre-built seniment analysis package\n",
    "from wordcloud import WordCloud, STOPWORDS # for ignoring stop words when finding word frequency\n",
    "from api_funcs import * # api call functions\n",
    "from nltk.collocations import * # data cleaning - using bigrams\n",
    "from nltk.stem import PorterStemmer # for stemming words\n",
    "from nltk.corpus import stopwords # for filtering out stop words in text"
   ]
  },
  {
   "cell_type": "markdown",
   "metadata": {},
   "source": [
    "#### Getting data through API calling"
   ]
  },
  {
   "cell_type": "code",
   "execution_count": 2,
   "metadata": {},
   "outputs": [
    {
     "data": {
      "text/plain": [
       "(200, 6)"
      ]
     },
     "execution_count": 2,
     "metadata": {},
     "output_type": "execute_result"
    }
   ],
   "source": [
    "from api_funcs import * # function for reddit api call\n",
    "posts = subreddit_posts('starbucks', 200) \n",
    "posts.shape"
   ]
  },
  {
   "cell_type": "code",
   "execution_count": 3,
   "metadata": {},
   "outputs": [
    {
     "data": {
      "text/html": [
       "<div>\n",
       "<style scoped>\n",
       "    .dataframe tbody tr th:only-of-type {\n",
       "        vertical-align: middle;\n",
       "    }\n",
       "\n",
       "    .dataframe tbody tr th {\n",
       "        vertical-align: top;\n",
       "    }\n",
       "\n",
       "    .dataframe thead th {\n",
       "        text-align: right;\n",
       "    }\n",
       "</style>\n",
       "<table border=\"1\" class=\"dataframe\">\n",
       "  <thead>\n",
       "    <tr style=\"text-align: right;\">\n",
       "      <th></th>\n",
       "      <th>Title</th>\n",
       "      <th>URL</th>\n",
       "      <th>Body</th>\n",
       "      <th>Upvotes</th>\n",
       "      <th>Time</th>\n",
       "      <th>Key</th>\n",
       "    </tr>\n",
       "  </thead>\n",
       "  <tbody>\n",
       "    <tr>\n",
       "      <th>0</th>\n",
       "      <td>I can’t manage this dude. I just can’t. This p...</td>\n",
       "      <td>https://www.reddit.com/r/starbucks/comments/iu...</td>\n",
       "      <td></td>\n",
       "      <td>748</td>\n",
       "      <td>2020-09-18 02:08:33</td>\n",
       "      <td>0</td>\n",
       "    </tr>\n",
       "    <tr>\n",
       "      <th>1</th>\n",
       "      <td>[OC by Brettybooop] Caption This</td>\n",
       "      <td>https://www.reddit.com/r/starbucks/comments/iu...</td>\n",
       "      <td></td>\n",
       "      <td>1002</td>\n",
       "      <td>2020-09-17 14:20:28</td>\n",
       "      <td>1</td>\n",
       "    </tr>\n",
       "    <tr>\n",
       "      <th>2</th>\n",
       "      <td>Caramel macchiato pls.</td>\n",
       "      <td>https://www.reddit.com/r/starbucks/comments/iu...</td>\n",
       "      <td>I don’t even work for Starbucks anymore but th...</td>\n",
       "      <td>62</td>\n",
       "      <td>2020-09-18 00:27:19</td>\n",
       "      <td>2</td>\n",
       "    </tr>\n",
       "    <tr>\n",
       "      <th>3</th>\n",
       "      <td>i forget how to think when the manager is watc...</td>\n",
       "      <td>https://www.reddit.com/r/starbucks/comments/it...</td>\n",
       "      <td></td>\n",
       "      <td>1970</td>\n",
       "      <td>2020-09-17 04:36:28</td>\n",
       "      <td>3</td>\n",
       "    </tr>\n",
       "    <tr>\n",
       "      <th>4</th>\n",
       "      <td>I did a thing</td>\n",
       "      <td>https://www.reddit.com/r/starbucks/comments/iu...</td>\n",
       "      <td></td>\n",
       "      <td>25</td>\n",
       "      <td>2020-09-18 03:26:34</td>\n",
       "      <td>4</td>\n",
       "    </tr>\n",
       "    <tr>\n",
       "      <th>...</th>\n",
       "      <td>...</td>\n",
       "      <td>...</td>\n",
       "      <td>...</td>\n",
       "      <td>...</td>\n",
       "      <td>...</td>\n",
       "      <td>...</td>\n",
       "    </tr>\n",
       "    <tr>\n",
       "      <th>195</th>\n",
       "      <td>Can anyone point me in the direction of the sc...</td>\n",
       "      <td>https://www.reddit.com/r/starbucks/comments/it...</td>\n",
       "      <td>My store uses crew to give us the schedule but...</td>\n",
       "      <td>2</td>\n",
       "      <td>2020-09-16 09:45:01</td>\n",
       "      <td>195</td>\n",
       "    </tr>\n",
       "    <tr>\n",
       "      <th>196</th>\n",
       "      <td>2020, you’ve gone too far....</td>\n",
       "      <td>https://www.reddit.com/r/starbucks/comments/is...</td>\n",
       "      <td></td>\n",
       "      <td>122</td>\n",
       "      <td>2020-09-15 11:03:09</td>\n",
       "      <td>196</td>\n",
       "    </tr>\n",
       "    <tr>\n",
       "      <th>197</th>\n",
       "      <td>How to determine calories for customizations?</td>\n",
       "      <td>https://www.reddit.com/r/starbucks/comments/it...</td>\n",
       "      <td>I really would like to know how customizing th...</td>\n",
       "      <td>0</td>\n",
       "      <td>2020-09-16 13:09:09</td>\n",
       "      <td>197</td>\n",
       "    </tr>\n",
       "    <tr>\n",
       "      <th>198</th>\n",
       "      <td>What to expect from a panel interview? Previou...</td>\n",
       "      <td>https://www.reddit.com/r/starbucks/comments/it...</td>\n",
       "      <td>Hello! I just got off the phone with a SM who ...</td>\n",
       "      <td>2</td>\n",
       "      <td>2020-09-16 09:18:13</td>\n",
       "      <td>198</td>\n",
       "    </tr>\n",
       "    <tr>\n",
       "      <th>199</th>\n",
       "      <td>Non-Caffeinated Drink Ideas?</td>\n",
       "      <td>https://www.reddit.com/r/starbucks/comments/it...</td>\n",
       "      <td>Hi friends! I recently found out I am pregnant...</td>\n",
       "      <td>4</td>\n",
       "      <td>2020-09-16 05:28:25</td>\n",
       "      <td>199</td>\n",
       "    </tr>\n",
       "  </tbody>\n",
       "</table>\n",
       "<p>200 rows × 6 columns</p>\n",
       "</div>"
      ],
      "text/plain": [
       "                                                 Title  \\\n",
       "0    I can’t manage this dude. I just can’t. This p...   \n",
       "1                     [OC by Brettybooop] Caption This   \n",
       "2                               Caramel macchiato pls.   \n",
       "3    i forget how to think when the manager is watc...   \n",
       "4                                        I did a thing   \n",
       "..                                                 ...   \n",
       "195  Can anyone point me in the direction of the sc...   \n",
       "196                      2020, you’ve gone too far....   \n",
       "197      How to determine calories for customizations?   \n",
       "198  What to expect from a panel interview? Previou...   \n",
       "199                       Non-Caffeinated Drink Ideas?   \n",
       "\n",
       "                                                   URL  \\\n",
       "0    https://www.reddit.com/r/starbucks/comments/iu...   \n",
       "1    https://www.reddit.com/r/starbucks/comments/iu...   \n",
       "2    https://www.reddit.com/r/starbucks/comments/iu...   \n",
       "3    https://www.reddit.com/r/starbucks/comments/it...   \n",
       "4    https://www.reddit.com/r/starbucks/comments/iu...   \n",
       "..                                                 ...   \n",
       "195  https://www.reddit.com/r/starbucks/comments/it...   \n",
       "196  https://www.reddit.com/r/starbucks/comments/is...   \n",
       "197  https://www.reddit.com/r/starbucks/comments/it...   \n",
       "198  https://www.reddit.com/r/starbucks/comments/it...   \n",
       "199  https://www.reddit.com/r/starbucks/comments/it...   \n",
       "\n",
       "                                                  Body  Upvotes  \\\n",
       "0                                                           748   \n",
       "1                                                          1002   \n",
       "2    I don’t even work for Starbucks anymore but th...       62   \n",
       "3                                                          1970   \n",
       "4                                                            25   \n",
       "..                                                 ...      ...   \n",
       "195  My store uses crew to give us the schedule but...        2   \n",
       "196                                                         122   \n",
       "197  I really would like to know how customizing th...        0   \n",
       "198  Hello! I just got off the phone with a SM who ...        2   \n",
       "199  Hi friends! I recently found out I am pregnant...        4   \n",
       "\n",
       "                   Time  Key  \n",
       "0   2020-09-18 02:08:33    0  \n",
       "1   2020-09-17 14:20:28    1  \n",
       "2   2020-09-18 00:27:19    2  \n",
       "3   2020-09-17 04:36:28    3  \n",
       "4   2020-09-18 03:26:34    4  \n",
       "..                  ...  ...  \n",
       "195 2020-09-16 09:45:01  195  \n",
       "196 2020-09-15 11:03:09  196  \n",
       "197 2020-09-16 13:09:09  197  \n",
       "198 2020-09-16 09:18:13  198  \n",
       "199 2020-09-16 05:28:25  199  \n",
       "\n",
       "[200 rows x 6 columns]"
      ]
     },
     "execution_count": 3,
     "metadata": {},
     "output_type": "execute_result"
    }
   ],
   "source": [
    "posts"
   ]
  },
  {
   "cell_type": "code",
   "execution_count": null,
   "metadata": {},
   "outputs": [],
   "source": [
    "# Save Dataset for faster test/setup\n",
    "posts.to_csv('Starbucks_Post_Dataset.csv', index=False)"
   ]
  },
  {
   "cell_type": "code",
   "execution_count": 4,
   "metadata": {
    "scrolled": true
   },
   "outputs": [
    {
     "data": {
      "text/plain": [
       "(2254, 4)"
      ]
     },
     "execution_count": 4,
     "metadata": {},
     "output_type": "execute_result"
    }
   ],
   "source": [
    "# From API call function\n",
    "replies = replies_to_posts(posts)\n",
    "replies.shape"
   ]
  },
  {
   "cell_type": "code",
   "execution_count": 5,
   "metadata": {},
   "outputs": [
    {
     "data": {
      "text/html": [
       "<div>\n",
       "<style scoped>\n",
       "    .dataframe tbody tr th:only-of-type {\n",
       "        vertical-align: middle;\n",
       "    }\n",
       "\n",
       "    .dataframe tbody tr th {\n",
       "        vertical-align: top;\n",
       "    }\n",
       "\n",
       "    .dataframe thead th {\n",
       "        text-align: right;\n",
       "    }\n",
       "</style>\n",
       "<table border=\"1\" class=\"dataframe\">\n",
       "  <thead>\n",
       "    <tr style=\"text-align: right;\">\n",
       "      <th></th>\n",
       "      <th>Reply</th>\n",
       "      <th>Upvote</th>\n",
       "      <th>Time</th>\n",
       "      <th>Key</th>\n",
       "    </tr>\n",
       "  </thead>\n",
       "  <tbody>\n",
       "    <tr>\n",
       "      <th>0</th>\n",
       "      <td>I AGREE. this company has the ability to staff...</td>\n",
       "      <td>195.0</td>\n",
       "      <td>2020-09-18 02:20:11</td>\n",
       "      <td>0.0</td>\n",
       "    </tr>\n",
       "    <tr>\n",
       "      <th>1</th>\n",
       "      <td>My Target Starbucks ALWAYS has people working ...</td>\n",
       "      <td>73.0</td>\n",
       "      <td>2020-09-18 02:56:20</td>\n",
       "      <td>0.0</td>\n",
       "    </tr>\n",
       "    <tr>\n",
       "      <th>2</th>\n",
       "      <td>Long ass post incoming.\\n\\nTLDR: I scolded my ...</td>\n",
       "      <td>131.0</td>\n",
       "      <td>2020-09-18 02:52:33</td>\n",
       "      <td>0.0</td>\n",
       "    </tr>\n",
       "  </tbody>\n",
       "</table>\n",
       "</div>"
      ],
      "text/plain": [
       "                                               Reply  Upvote  \\\n",
       "0  I AGREE. this company has the ability to staff...   195.0   \n",
       "1  My Target Starbucks ALWAYS has people working ...    73.0   \n",
       "2  Long ass post incoming.\\n\\nTLDR: I scolded my ...   131.0   \n",
       "\n",
       "                 Time  Key  \n",
       "0 2020-09-18 02:20:11  0.0  \n",
       "1 2020-09-18 02:56:20  0.0  \n",
       "2 2020-09-18 02:52:33  0.0  "
      ]
     },
     "execution_count": 5,
     "metadata": {},
     "output_type": "execute_result"
    }
   ],
   "source": [
    "replies.head(3)"
   ]
  },
  {
   "cell_type": "code",
   "execution_count": null,
   "metadata": {},
   "outputs": [],
   "source": [
    "replies.to_csv('Starbucks_Replies_Dataset.csv', index=False)"
   ]
  },
  {
   "cell_type": "code",
   "execution_count": 7,
   "metadata": {
    "scrolled": false
   },
   "outputs": [
    {
     "data": {
      "text/plain": [
       "(2254, 4)"
      ]
     },
     "execution_count": 7,
     "metadata": {},
     "output_type": "execute_result"
    }
   ],
   "source": [
    "replies.shape"
   ]
  },
  {
   "cell_type": "markdown",
   "metadata": {},
   "source": [
    "#### Cleaning Data"
   ]
  },
  {
   "cell_type": "code",
   "execution_count": 8,
   "metadata": {},
   "outputs": [],
   "source": [
    "# For test/setup purposes, saved csv shall be used instead of calling API\n",
    "Posts = pd.read_csv('Starbucks_Post_Dataset.csv')\n",
    "Comments = pd.read_csv('Starbucks_Replies_Dataset.csv')"
   ]
  },
  {
   "cell_type": "markdown",
   "metadata": {},
   "source": [
    "##### Removing any empty data"
   ]
  },
  {
   "cell_type": "code",
   "execution_count": 9,
   "metadata": {},
   "outputs": [],
   "source": [
    "Comments.dropna(subset=['Reply'], inplace=True)"
   ]
  },
  {
   "cell_type": "markdown",
   "metadata": {},
   "source": [
    "##### 'comments' shall be replies in text only"
   ]
  },
  {
   "cell_type": "code",
   "execution_count": 10,
   "metadata": {},
   "outputs": [
    {
     "data": {
      "text/plain": [
       "0    22 March 2020 Update:\\n\\n[The incentive has be...\n",
       "1    Hi partners, checking in here from my doctor o...\n",
       "2    Thank you for all your hard work keeping this ...\n",
       "3    I mentioned this in another thread, but my sto...\n",
       "4    Everyone in my store but one person took the l...\n",
       "Name: Reply, dtype: object"
      ]
     },
     "execution_count": 10,
     "metadata": {},
     "output_type": "execute_result"
    }
   ],
   "source": [
    "Comments.Reply.head(5)"
   ]
  },
  {
   "cell_type": "markdown",
   "metadata": {},
   "source": [
    "##### Removing Links in text"
   ]
  },
  {
   "cell_type": "code",
   "execution_count": 11,
   "metadata": {},
   "outputs": [],
   "source": [
    "Comments.Reply =  Comments.Reply.apply(lambda x: re.sub(r'\\(?http\\S+', '', x))"
   ]
  },
  {
   "cell_type": "markdown",
   "metadata": {},
   "source": [
    "##### Removing punctuations and symbols"
   ]
  },
  {
   "cell_type": "code",
   "execution_count": 12,
   "metadata": {},
   "outputs": [],
   "source": [
    "Comments.Reply = Comments.Reply.apply(lambda x: re.sub(r'[^\\w\\s]', '', x))"
   ]
  },
  {
   "cell_type": "markdown",
   "metadata": {},
   "source": [
    "##### Removing items in text such as \"/n\" by tokenizing\n",
    "\n",
    "- ***replies.Reply*** will be used for sentiment analysis\n",
    "- ***Concat_replies*** to ***Tokenized_replies*** to ***Concat_Tokenized_replies*** will be used for wordcloud"
   ]
  },
  {
   "cell_type": "markdown",
   "metadata": {},
   "source": [
    "##### Applying tokenization in Reply column"
   ]
  },
  {
   "cell_type": "code",
   "execution_count": 13,
   "metadata": {},
   "outputs": [],
   "source": [
    "Comments.Reply = Comments.Reply.apply(lambda x: ' '.join(nltk.word_tokenize(x)))"
   ]
  },
  {
   "cell_type": "code",
   "execution_count": 14,
   "metadata": {},
   "outputs": [],
   "source": [
    "# Saving for test/setup process.\n",
    "Comments.to_csv('PreProcessed_Starbucks_Comments.csv', index=False)"
   ]
  },
  {
   "cell_type": "markdown",
   "metadata": {},
   "source": [
    "#### Pre-processing for wordcloud"
   ]
  },
  {
   "cell_type": "code",
   "execution_count": 15,
   "metadata": {},
   "outputs": [
    {
     "data": {
      "text/html": [
       "<div>\n",
       "<style scoped>\n",
       "    .dataframe tbody tr th:only-of-type {\n",
       "        vertical-align: middle;\n",
       "    }\n",
       "\n",
       "    .dataframe tbody tr th {\n",
       "        vertical-align: top;\n",
       "    }\n",
       "\n",
       "    .dataframe thead th {\n",
       "        text-align: right;\n",
       "    }\n",
       "</style>\n",
       "<table border=\"1\" class=\"dataframe\">\n",
       "  <thead>\n",
       "    <tr style=\"text-align: right;\">\n",
       "      <th></th>\n",
       "      <th>Reply</th>\n",
       "      <th>Upvote</th>\n",
       "      <th>Time</th>\n",
       "      <th>Key</th>\n",
       "    </tr>\n",
       "  </thead>\n",
       "  <tbody>\n",
       "    <tr>\n",
       "      <th>0</th>\n",
       "      <td>22 March 2020 Update The incentive has been an...</td>\n",
       "      <td>1.0</td>\n",
       "      <td>2020-03-23 09:44:57</td>\n",
       "      <td>0.0</td>\n",
       "    </tr>\n",
       "    <tr>\n",
       "      <th>1</th>\n",
       "      <td>Hi partners checking in here from my doctor or...</td>\n",
       "      <td>80.0</td>\n",
       "      <td>2020-03-22 07:27:09</td>\n",
       "      <td>0.0</td>\n",
       "    </tr>\n",
       "    <tr>\n",
       "      <th>2</th>\n",
       "      <td>Thank you for all your hard work keeping this ...</td>\n",
       "      <td>96.0</td>\n",
       "      <td>2020-03-22 05:09:09</td>\n",
       "      <td>0.0</td>\n",
       "    </tr>\n",
       "  </tbody>\n",
       "</table>\n",
       "</div>"
      ],
      "text/plain": [
       "                                               Reply  Upvote  \\\n",
       "0  22 March 2020 Update The incentive has been an...     1.0   \n",
       "1  Hi partners checking in here from my doctor or...    80.0   \n",
       "2  Thank you for all your hard work keeping this ...    96.0   \n",
       "\n",
       "                  Time  Key  \n",
       "0  2020-03-23 09:44:57  0.0  \n",
       "1  2020-03-22 07:27:09  0.0  \n",
       "2  2020-03-22 05:09:09  0.0  "
      ]
     },
     "execution_count": 15,
     "metadata": {},
     "output_type": "execute_result"
    }
   ],
   "source": [
    "Comments = pd.read_csv('PreProcessed_Starbucks_Comments.csv')\n",
    "Comments.head(3)"
   ]
  },
  {
   "cell_type": "code",
   "execution_count": 16,
   "metadata": {
    "scrolled": true
   },
   "outputs": [
    {
     "data": {
      "text/plain": [
       "'22 March 2020 Update The incentive has been announced 3 pay raise for now until 20 April 2020 Please'"
      ]
     },
     "execution_count": 16,
     "metadata": {},
     "output_type": "execute_result"
    }
   ],
   "source": [
    "# joining all the words into one line\n",
    "Comments_Concat = Comments.Reply.str.cat(sep='. ')\n",
    "Comments_Concat[:100]"
   ]
  },
  {
   "cell_type": "code",
   "execution_count": 17,
   "metadata": {
    "scrolled": true
   },
   "outputs": [
    {
     "data": {
      "text/plain": [
       "['22',\n",
       " 'March',\n",
       " '2020',\n",
       " 'Update',\n",
       " 'The',\n",
       " 'incentive',\n",
       " 'has',\n",
       " 'been',\n",
       " 'announced',\n",
       " '3',\n",
       " 'pay',\n",
       " 'raise',\n",
       " 'for',\n",
       " 'now',\n",
       " 'until',\n",
       " '20',\n",
       " 'April',\n",
       " '2020',\n",
       " 'Please',\n",
       " 'read',\n",
       " 'this',\n",
       " 'comment',\n",
       " 'its',\n",
       " 'very',\n",
       " 'important',\n",
       " 'has',\n",
       " 'more',\n",
       " 'info',\n",
       " 'thank',\n",
       " 'you',\n",
       " 'uFetchFox98',\n",
       " 'another',\n",
       " 'important',\n",
       " 'edit',\n",
       " 'There',\n",
       " 'was',\n",
       " 'a',\n",
       " 'letter',\n",
       " 'released',\n",
       " 'on',\n",
       " 'Workplacethe',\n",
       " 'Hub',\n",
       " 'screenshots',\n",
       " 'are',\n",
       " 'not',\n",
       " 'okay',\n",
       " 'but',\n",
       " 'I',\n",
       " 'did',\n",
       " 'type',\n",
       " 'the',\n",
       " 'whole',\n",
       " 'thing',\n",
       " 'up',\n",
       " 'HERE',\n",
       " 'verbatim',\n",
       " 'with',\n",
       " 'the',\n",
       " 'link',\n",
       " 'to',\n",
       " 'the',\n",
       " 'Hub',\n",
       " 'If',\n",
       " 'it',\n",
       " 'doesnt',\n",
       " 'work',\n",
       " 'let',\n",
       " 'me',\n",
       " 'know',\n",
       " 'it',\n",
       " 'may',\n",
       " 'be',\n",
       " 'missing',\n",
       " 'an',\n",
       " 'underscore',\n",
       " '24',\n",
       " 'March',\n",
       " '2020',\n",
       " 'EXPANDED',\n",
       " 'FOODDRINK',\n",
       " 'BENEFIT',\n",
       " 'ANNOUNCEMENT',\n",
       " 'big',\n",
       " 'ups',\n",
       " 'to',\n",
       " 'uF1_Phantom',\n",
       " '1',\n",
       " 'April',\n",
       " '2020',\n",
       " 'Catastrophe',\n",
       " 'Pay',\n",
       " 'and',\n",
       " 'Service',\n",
       " 'Pay',\n",
       " '3',\n",
       " 'bonus',\n",
       " 'extended',\n",
       " 'through',\n",
       " 'to',\n",
       " 'May',\n",
       " '3rd',\n",
       " 'Sneaky',\n",
       " 'fuckers',\n",
       " 'edited',\n",
       " 'the',\n",
       " 'most',\n",
       " 'recent',\n",
       " 'update',\n",
       " 'to',\n",
       " 'include',\n",
       " 'information',\n",
       " 'about',\n",
       " 'how',\n",
       " 'theyre',\n",
       " 'REQUIRING',\n",
       " 'MASKS',\n",
       " 'TO',\n",
       " 'BE',\n",
       " 'WORN',\n",
       " 'BY',\n",
       " 'BARISTAS',\n",
       " 'NOW',\n",
       " 'Additional',\n",
       " 'safety',\n",
       " 'precautions',\n",
       " 'The',\n",
       " 'company',\n",
       " 'will',\n",
       " 'make',\n",
       " 'thermometers',\n",
       " 'available',\n",
       " 'for',\n",
       " 'all',\n",
       " 'stores',\n",
       " 'and',\n",
       " 'partners',\n",
       " 'are',\n",
       " 'required',\n",
       " 'to',\n",
       " 'wear',\n",
       " 'nonmedical',\n",
       " 'facial',\n",
       " 'coverings',\n",
       " 'at',\n",
       " 'work',\n",
       " '.',\n",
       " 'Hi',\n",
       " 'partners',\n",
       " 'checking',\n",
       " 'in',\n",
       " 'here',\n",
       " 'from',\n",
       " 'my',\n",
       " 'doctor',\n",
       " 'ordered',\n",
       " 'quarantine',\n",
       " 'I',\n",
       " 'was',\n",
       " 'exposed',\n",
       " 'to',\n",
       " 'COVID19',\n",
       " 'and',\n",
       " 'roughly',\n",
       " 'ten',\n",
       " 'days',\n",
       " 'later',\n",
       " 'started',\n",
       " 'becoming',\n",
       " 'symptomatic',\n",
       " 'To',\n",
       " 'keep',\n",
       " 'it',\n",
       " 'simple',\n",
       " 'I',\n",
       " 'feel',\n",
       " 'like',\n",
       " 'garbage',\n",
       " 'I',\n",
       " 'will',\n",
       " 'never',\n",
       " 'taking',\n",
       " 'breathing',\n",
       " 'for',\n",
       " 'granted',\n",
       " 'again',\n",
       " 'But',\n",
       " 'to',\n",
       " 'why',\n",
       " 'Im',\n",
       " 'commenting',\n",
       " 'here',\n",
       " 'The',\n",
       " '30',\n",
       " 'days',\n",
       " 'leave',\n",
       " 'is',\n",
       " 'great',\n",
       " 'Its',\n",
       " 'a',\n",
       " 'really',\n",
       " 'cool',\n",
       " 'step',\n",
       " 'forward',\n",
       " 'once',\n",
       " 'the',\n",
       " 'details',\n",
       " 'are',\n",
       " 'ironed',\n",
       " 'out',\n",
       " 'I',\n",
       " 'know',\n",
       " 'my',\n",
       " 'SM',\n",
       " 'checked',\n",
       " 'in',\n",
       " 'to',\n",
       " 'let',\n",
       " 'me',\n",
       " 'know',\n",
       " 'my',\n",
       " '14',\n",
       " 'day',\n",
       " 'catastrophe',\n",
       " 'pay',\n",
       " 'was',\n",
       " 'approved',\n",
       " 'but',\n",
       " 'she',\n",
       " 'has',\n",
       " 'zero',\n",
       " 'information',\n",
       " 'about',\n",
       " 'the',\n",
       " '30',\n",
       " 'days',\n",
       " 'leave',\n",
       " 'Shes',\n",
       " 'waiting',\n",
       " 'on',\n",
       " 'information',\n",
       " 'from',\n",
       " 'our',\n",
       " 'DM',\n",
       " 'They',\n",
       " 'found',\n",
       " 'out',\n",
       " 'when',\n",
       " 'we',\n",
       " 'did',\n",
       " 'which',\n",
       " 'blows',\n",
       " 'BUT',\n",
       " 'BUT',\n",
       " 'BUT',\n",
       " 'P',\n",
       " 'L',\n",
       " 'E',\n",
       " 'A',\n",
       " 'S',\n",
       " 'E',\n",
       " 'if',\n",
       " 'you',\n",
       " 'take',\n",
       " 'it',\n",
       " 'STAY',\n",
       " 'INSIDE',\n",
       " 'This',\n",
       " 'isnt',\n",
       " 'a',\n",
       " '30',\n",
       " 'day',\n",
       " 'vacation',\n",
       " 'its',\n",
       " 'a',\n",
       " 'safety',\n",
       " 'precaution',\n",
       " 'This',\n",
       " 'isnt',\n",
       " 'the',\n",
       " 'time',\n",
       " 'to',\n",
       " 'be',\n",
       " 'gathering',\n",
       " 'in',\n",
       " 'bars',\n",
       " 'if',\n",
       " 'theyre',\n",
       " 'even',\n",
       " 'open',\n",
       " 'or',\n",
       " 'to',\n",
       " 'have',\n",
       " 'parties',\n",
       " 'Stay',\n",
       " 'home',\n",
       " 'and',\n",
       " 'stay',\n",
       " 'safe',\n",
       " 'Order',\n",
       " 'delivery',\n",
       " 'if',\n",
       " 'you',\n",
       " 'can',\n",
       " 'contactless',\n",
       " 'if',\n",
       " 'theres',\n",
       " 'an',\n",
       " 'option',\n",
       " 'and',\n",
       " 'tip',\n",
       " 'well',\n",
       " 'I',\n",
       " 'know',\n",
       " 'my',\n",
       " 'friends',\n",
       " 'who',\n",
       " 'do',\n",
       " 'deliveries',\n",
       " 'cant',\n",
       " 'stop',\n",
       " 'and',\n",
       " 'theyre',\n",
       " 'relying',\n",
       " 'on',\n",
       " 'these',\n",
       " 'tips',\n",
       " 'Keep',\n",
       " 'social',\n",
       " 'distancing',\n",
       " 'Flatten',\n",
       " 'the',\n",
       " 'curve',\n",
       " 'We',\n",
       " 'dont',\n",
       " 'know',\n",
       " 'what',\n",
       " 'a',\n",
       " 'week',\n",
       " 'from',\n",
       " 'now',\n",
       " 'or',\n",
       " 'a',\n",
       " 'month',\n",
       " 'from',\n",
       " 'now',\n",
       " 'will',\n",
       " 'look',\n",
       " 'like',\n",
       " 'but',\n",
       " 'we',\n",
       " 'can',\n",
       " 'do',\n",
       " 'our',\n",
       " 'part',\n",
       " 'now',\n",
       " 'Flatten',\n",
       " 'the',\n",
       " 'damn',\n",
       " 'curve',\n",
       " 'stay',\n",
       " 'hydrated',\n",
       " 'and',\n",
       " 'Ill',\n",
       " 'see',\n",
       " 'you',\n",
       " 'on',\n",
       " 'the',\n",
       " 'other',\n",
       " 'side',\n",
       " '.',\n",
       " 'Thank',\n",
       " 'you',\n",
       " 'for',\n",
       " 'all',\n",
       " 'your',\n",
       " 'hard',\n",
       " 'work',\n",
       " 'keeping',\n",
       " 'this',\n",
       " 'sub',\n",
       " 'calm',\n",
       " 'and',\n",
       " 'organized',\n",
       " 'I',\n",
       " 'see',\n",
       " 'your',\n",
       " 'efforts',\n",
       " 'and',\n",
       " 'I',\n",
       " 'genuinely',\n",
       " 'appreciate',\n",
       " 'them',\n",
       " '.',\n",
       " 'I',\n",
       " 'mentioned',\n",
       " 'this',\n",
       " 'in',\n",
       " 'another',\n",
       " 'thread',\n",
       " 'but',\n",
       " 'my',\n",
       " 'store',\n",
       " 'is',\n",
       " 'closing',\n",
       " 'for',\n",
       " 'the',\n",
       " 'duration',\n",
       " 'Our',\n",
       " 'SM',\n",
       " 'made',\n",
       " 'the',\n",
       " 'call',\n",
       " 'to',\n",
       " 'give',\n",
       " 'every',\n",
       " 'partner',\n",
       " 'the',\n",
       " 'leave',\n",
       " 'with',\n",
       " 'no',\n",
       " 'consultation',\n",
       " 'I',\n",
       " 'didnt',\n",
       " 'find',\n",
       " 'out',\n",
       " 'for',\n",
       " 'sure',\n",
       " 'until',\n",
       " 'she',\n",
       " 'called',\n",
       " 'me',\n",
       " 'this',\n",
       " 'morning',\n",
       " 'Im',\n",
       " 'not',\n",
       " 'thrilled',\n",
       " 'with',\n",
       " 'how',\n",
       " 'the',\n",
       " 'decision',\n",
       " 'was',\n",
       " 'made',\n",
       " 'but',\n",
       " 'being',\n",
       " 'able',\n",
       " 'to',\n",
       " 'care',\n",
       " 'for',\n",
       " 'myself',\n",
       " 'and',\n",
       " 'my',\n",
       " 'boyfriend',\n",
       " 'and',\n",
       " 'his',\n",
       " 'parents',\n",
       " 'is',\n",
       " 'my',\n",
       " 'priority',\n",
       " 'right',\n",
       " 'now',\n",
       " 'Im',\n",
       " 'hoping',\n",
       " 'all',\n",
       " 'of',\n",
       " 'you',\n",
       " 'are',\n",
       " 'able',\n",
       " 'to',\n",
       " 'be',\n",
       " 'safe',\n",
       " 'and',\n",
       " 'well',\n",
       " 'too',\n",
       " '.',\n",
       " 'Everyone',\n",
       " 'in',\n",
       " 'my',\n",
       " 'store',\n",
       " 'but',\n",
       " 'one',\n",
       " 'person',\n",
       " 'took',\n",
       " 'the',\n",
       " 'leave',\n",
       " 'Because',\n",
       " 'of',\n",
       " 'that',\n",
       " 'our',\n",
       " 'store',\n",
       " 'is',\n",
       " 'closed',\n",
       " 'I',\n",
       " 'just',\n",
       " 'worry',\n",
       " 'about',\n",
       " 'having',\n",
       " 'my',\n",
       " 'job',\n",
       " 'still',\n",
       " 'after',\n",
       " 'the',\n",
       " '30',\n",
       " 'days',\n",
       " 'is',\n",
       " 'up',\n",
       " '.',\n",
       " 'Ok',\n",
       " 'nice',\n",
       " 'to',\n",
       " 'see',\n",
       " 'that',\n",
       " 'Starbucks',\n",
       " 'is',\n",
       " 'a',\n",
       " 'global',\n",
       " 'shit',\n",
       " 'show',\n",
       " 'Heres',\n",
       " 'what',\n",
       " 'happened',\n",
       " 'today',\n",
       " 'in',\n",
       " 'my',\n",
       " 'store',\n",
       " 'in',\n",
       " 'Germany',\n",
       " 'you',\n",
       " 'cant',\n",
       " 'make',\n",
       " 'this',\n",
       " 'shit',\n",
       " 'up',\n",
       " 'On',\n",
       " 'Friday',\n",
       " 'evening',\n",
       " 'my',\n",
       " 'state',\n",
       " 'announced',\n",
       " 'that',\n",
       " 'all',\n",
       " 'restaurants',\n",
       " 'will',\n",
       " 'be',\n",
       " 'closed',\n",
       " 'due',\n",
       " 'to',\n",
       " 'Covid19',\n",
       " 'A',\n",
       " 'couple',\n",
       " 'of',\n",
       " 'days',\n",
       " 'earlier',\n",
       " 'Amrest',\n",
       " 'sent',\n",
       " 'out',\n",
       " 'a',\n",
       " 'FAQ',\n",
       " 'mail',\n",
       " 'which',\n",
       " 'clearly',\n",
       " 'stated',\n",
       " 'that',\n",
       " 'Starbucks',\n",
       " 'is',\n",
       " 'considered',\n",
       " 'a',\n",
       " 'restaurant',\n",
       " 'There',\n",
       " 'was',\n",
       " 'a',\n",
       " 'point',\n",
       " 'before',\n",
       " 'that',\n",
       " 'where',\n",
       " 'it',\n",
       " 'wasnt',\n",
       " 'clear',\n",
       " 'if',\n",
       " 'the',\n",
       " 'Bux',\n",
       " 'was',\n",
       " 'considered',\n",
       " 'retail',\n",
       " 'or',\n",
       " 'food',\n",
       " 'service',\n",
       " 'industry',\n",
       " 'and',\n",
       " 'it',\n",
       " 'was',\n",
       " 'important',\n",
       " 'to',\n",
       " 'know',\n",
       " 'because',\n",
       " 'of',\n",
       " 'the',\n",
       " 'frequently',\n",
       " 'updated',\n",
       " 'bans',\n",
       " 'and',\n",
       " 'shutdowns',\n",
       " 'made',\n",
       " 'by',\n",
       " 'the',\n",
       " 'state',\n",
       " 'I',\n",
       " 'met',\n",
       " 'up',\n",
       " 'today',\n",
       " 'with',\n",
       " 'my',\n",
       " 'SM',\n",
       " 'and',\n",
       " 'another',\n",
       " 'barista',\n",
       " 'to',\n",
       " 'take',\n",
       " 'inventory',\n",
       " 'and',\n",
       " 'prep',\n",
       " 'the',\n",
       " 'store',\n",
       " 'to',\n",
       " 'close',\n",
       " 'for',\n",
       " 'the',\n",
       " 'unforeseeable',\n",
       " 'future',\n",
       " 'when',\n",
       " 'around',\n",
       " '11',\n",
       " 'am',\n",
       " 'we',\n",
       " 'got',\n",
       " 'a',\n",
       " 'call',\n",
       " 'that',\n",
       " 'other',\n",
       " 'coffee',\n",
       " 'chains',\n",
       " 'were',\n",
       " 'still',\n",
       " 'open',\n",
       " 'downtown',\n",
       " 'and',\n",
       " 'we',\n",
       " 'had',\n",
       " 'about',\n",
       " 'an',\n",
       " 'hour',\n",
       " 'to',\n",
       " 'open',\n",
       " 'ours',\n",
       " 'again',\n",
       " 'too',\n",
       " 'I',\n",
       " 'dont',\n",
       " 'know',\n",
       " 'if',\n",
       " 'its',\n",
       " 'a',\n",
       " 'legit',\n",
       " 'loophole',\n",
       " 'but',\n",
       " 'Amrest',\n",
       " 'claims',\n",
       " 'that',\n",
       " 'since',\n",
       " 'were',\n",
       " 'only',\n",
       " 'doing',\n",
       " 'takeout',\n",
       " 'came',\n",
       " 'in',\n",
       " 'effect',\n",
       " 'only',\n",
       " 'today',\n",
       " 'lol',\n",
       " 'were',\n",
       " 'not',\n",
       " 'a',\n",
       " 'regular',\n",
       " 'restaurant',\n",
       " 'and',\n",
       " 'therefore',\n",
       " 'allowed',\n",
       " 'to',\n",
       " 'operate',\n",
       " 'That',\n",
       " 'the',\n",
       " 'Bux',\n",
       " 'doesnt',\n",
       " 'care',\n",
       " 'isnt',\n",
       " 'anything',\n",
       " 'new',\n",
       " 'we',\n",
       " 'shouldve',\n",
       " 'closed',\n",
       " 'a',\n",
       " 'while',\n",
       " 'ago',\n",
       " 'not',\n",
       " 'only',\n",
       " 'for',\n",
       " 'the',\n",
       " 'customers',\n",
       " 'safety',\n",
       " 'but',\n",
       " 'for',\n",
       " 'ours',\n",
       " 'too',\n",
       " 'But',\n",
       " 'the',\n",
       " 'couple',\n",
       " 'hours',\n",
       " 'where',\n",
       " 'it',\n",
       " 'was',\n",
       " 'announced',\n",
       " 'that',\n",
       " 'were',\n",
       " 'closed',\n",
       " 'and',\n",
       " 'Amrest',\n",
       " 'wants',\n",
       " 'to',\n",
       " 'ensure',\n",
       " '90',\n",
       " 'of',\n",
       " 'payment',\n",
       " 'instead',\n",
       " 'of',\n",
       " '60',\n",
       " 'were',\n",
       " 'a',\n",
       " 'real',\n",
       " 'pleasant',\n",
       " 'surprise',\n",
       " 'I',\n",
       " 'really',\n",
       " 'feel',\n",
       " 'like',\n",
       " 'BooBoo',\n",
       " 'The',\n",
       " 'Fool',\n",
       " 'for',\n",
       " 'believing',\n",
       " 'that',\n",
       " 'they',\n",
       " 'actually',\n",
       " 'care',\n",
       " 'lol',\n",
       " 'As',\n",
       " 'soon',\n",
       " 'as',\n",
       " 'it',\n",
       " 'was',\n",
       " 'known',\n",
       " 'that',\n",
       " 'others',\n",
       " 'were',\n",
       " 'still',\n",
       " 'open',\n",
       " 'and',\n",
       " 'the',\n",
       " 'Bux',\n",
       " 'can',\n",
       " 'have',\n",
       " 'a',\n",
       " 'slice',\n",
       " 'of',\n",
       " 'that',\n",
       " 'money',\n",
       " 'cake',\n",
       " 'they',\n",
       " 'grabbed',\n",
       " 'that',\n",
       " 'opportunity',\n",
       " 'and',\n",
       " 'flipped',\n",
       " 'us',\n",
       " 'off',\n",
       " 'Now',\n",
       " 'other',\n",
       " 'SMs',\n",
       " 'are',\n",
       " 'telling',\n",
       " 'us',\n",
       " 'to',\n",
       " 'be',\n",
       " 'reasonable',\n",
       " 'and',\n",
       " 'grateful',\n",
       " 'that',\n",
       " 'we',\n",
       " 'still',\n",
       " 'have',\n",
       " 'a',\n",
       " 'job',\n",
       " 'Im',\n",
       " 'sorry',\n",
       " 'Maam',\n",
       " 'but',\n",
       " 'that',\n",
       " 'sounds',\n",
       " 'fucked',\n",
       " 'up',\n",
       " 'Were',\n",
       " 'dealing',\n",
       " 'with',\n",
       " 'a',\n",
       " 'pandemic',\n",
       " '.',\n",
       " 'Thirty',\n",
       " 'days',\n",
       " 'paid',\n",
       " 'is',\n",
       " 'nice',\n",
       " 'and',\n",
       " 'all',\n",
       " 'but',\n",
       " 'what',\n",
       " 'happens',\n",
       " 'after',\n",
       " 'those',\n",
       " '30',\n",
       " 'days',\n",
       " 'are',\n",
       " 'over',\n",
       " 'and',\n",
       " 'the',\n",
       " 'virus',\n",
       " 'is',\n",
       " 'still',\n",
       " 'here',\n",
       " 'Starbucks',\n",
       " 'wont',\n",
       " 'keep',\n",
       " 'paying',\n",
       " 'us',\n",
       " 'forever',\n",
       " 'were',\n",
       " 'all',\n",
       " 'getting',\n",
       " 'laid',\n",
       " 'off',\n",
       " 'arent',\n",
       " 'we',\n",
       " '.',\n",
       " 'UPDATE',\n",
       " 'Im',\n",
       " 'a',\n",
       " 'shift',\n",
       " 'supervisor',\n",
       " 'at',\n",
       " 'Starbucks',\n",
       " 'and',\n",
       " 'have',\n",
       " 'worked',\n",
       " 'there',\n",
       " 'for',\n",
       " 'about',\n",
       " 'a',\n",
       " 'year',\n",
       " 'and',\n",
       " 'a',\n",
       " 'half',\n",
       " 'I',\n",
       " 'requested',\n",
       " 'to',\n",
       " 'take',\n",
       " 'the',\n",
       " '30',\n",
       " 'days',\n",
       " 'off',\n",
       " 'My',\n",
       " 'reasoning',\n",
       " 'was',\n",
       " 'that',\n",
       " 'I',\n",
       " 'am',\n",
       " 'a',\n",
       " 'clarinet',\n",
       " 'major',\n",
       " 'in',\n",
       " 'college',\n",
       " 'and',\n",
       " 'the',\n",
       " 'virus',\n",
       " 'attacks',\n",
       " 'the',\n",
       " 'lungs',\n",
       " 'If',\n",
       " 'the',\n",
       " 'virus',\n",
       " 'were',\n",
       " 'to',\n",
       " 'damage',\n",
       " 'my',\n",
       " 'lungs',\n",
       " 'permanently',\n",
       " 'I',\n",
       " 'would',\n",
       " 'have',\n",
       " 'to',\n",
       " 'change',\n",
       " 'career',\n",
       " 'paths',\n",
       " 'I',\n",
       " 'know',\n",
       " 'its',\n",
       " 'not',\n",
       " 'a',\n",
       " 'super',\n",
       " 'intense',\n",
       " 'reason',\n",
       " 'but',\n",
       " 'it',\n",
       " 'was',\n",
       " 'my',\n",
       " 'reasoning',\n",
       " 'Corporate',\n",
       " 'claimed',\n",
       " 'I',\n",
       " 'didnt',\n",
       " 'meet',\n",
       " 'a',\n",
       " 'required',\n",
       " 'standard',\n",
       " 'and',\n",
       " 'therefore',\n",
       " 'would',\n",
       " 'NOT',\n",
       " 'be',\n",
       " 'paid',\n",
       " 'for',\n",
       " 'my',\n",
       " '30',\n",
       " 'days',\n",
       " 'off',\n",
       " 'but',\n",
       " 'I',\n",
       " 'could',\n",
       " 'still',\n",
       " 'choose',\n",
       " 'to',\n",
       " 'not',\n",
       " 'work',\n",
       " 'for',\n",
       " '30',\n",
       " 'days',\n",
       " 'I',\n",
       " 'of',\n",
       " 'course',\n",
       " 'asked',\n",
       " 'what',\n",
       " 'the',\n",
       " 'standards',\n",
       " 'were',\n",
       " 'and',\n",
       " 'my',\n",
       " 'manager',\n",
       " 'responded',\n",
       " 'saying',\n",
       " 'even',\n",
       " 'she',\n",
       " 'didnt',\n",
       " 'know',\n",
       " 'the',\n",
       " 'standards',\n",
       " 'Dont',\n",
       " 'expect',\n",
       " 'to',\n",
       " 'get',\n",
       " 'paid',\n",
       " 'everyone',\n",
       " 'Starbucks',\n",
       " 'has',\n",
       " 'chosen',\n",
       " 'to',\n",
       " 'stay',\n",
       " 'greedy',\n",
       " 'during',\n",
       " 'a',\n",
       " 'national',\n",
       " 'crisis',\n",
       " '.',\n",
       " 'Anyone',\n",
       " 'else',\n",
       " 'one',\n",
       " 'of',\n",
       " 'the',\n",
       " 'only',\n",
       " 'partners',\n",
       " 'at',\n",
       " 'their',\n",
       " 'store',\n",
       " 'who',\n",
       " 'wants',\n",
       " ...]"
      ]
     },
     "execution_count": 17,
     "metadata": {},
     "output_type": "execute_result"
    }
   ],
   "source": [
    "# from one line of text, tokenizing to remove text such as \\n \n",
    "Comments_Tokenized = nltk.word_tokenize(Comments_Concat)\n",
    "Comments_Tokenized"
   ]
  },
  {
   "cell_type": "markdown",
   "metadata": {},
   "source": [
    "Concatinate tokenized comments"
   ]
  },
  {
   "cell_type": "code",
   "execution_count": 18,
   "metadata": {},
   "outputs": [
    {
     "data": {
      "text/plain": [
       "'22 March 2020 Update The incentive has been announced 3 pay raise for now until 20 April 2020 Please'"
      ]
     },
     "execution_count": 18,
     "metadata": {},
     "output_type": "execute_result"
    }
   ],
   "source": [
    "# joining all text again together with unwanted text removed\n",
    "Comments_Tokenized_Concat = ' '.join(Comments_Tokenized)\n",
    "Comments_Tokenized_Concat[:100]"
   ]
  },
  {
   "cell_type": "markdown",
   "metadata": {},
   "source": [
    "#### Using bigrams to find words that have different meaning when paired"
   ]
  },
  {
   "cell_type": "code",
   "execution_count": 19,
   "metadata": {},
   "outputs": [
    {
     "name": "stdout",
     "output_type": "stream",
     "text": [
      "[('cinnamon', 'dolce'), ('air', 'quality'), ('US', 'MORE'), ('Good', 'luck'), ('PAY', 'US'), ('green', 'bean'), ('passion', 'tea'), ('wan', 'na'), ('gon', 'na'), ('tip', 'jar')]\n"
     ]
    }
   ],
   "source": [
    "from nltk.collocations import *\n",
    "\n",
    "def common_bigrams(tokenized_text, min_freq, top_n):\n",
    "    bigram_measures = nltk.collocations.BigramAssocMeasures()\n",
    "    finder = BigramCollocationFinder.from_words(tokenized_text)\n",
    "    \n",
    "    # to adjust frequency requiremnts for bigrams to be recgonised\n",
    "    finder.apply_freq_filter(min_freq) \n",
    "    finder.nbest(bigram_measures.pmi, top_n)\n",
    "    return finder.nbest(bigram_measures.pmi, top_n)\n",
    "\n",
    "# Returning 10 highest PMI bigrams\n",
    "print(common_bigrams(Comments_Tokenized, 10, 10))"
   ]
  },
  {
   "cell_type": "markdown",
   "metadata": {},
   "source": [
    "# 2. Investigate the data"
   ]
  },
  {
   "cell_type": "markdown",
   "metadata": {},
   "source": [
    "### Using Wordcloud to identify frequent words"
   ]
  },
  {
   "cell_type": "markdown",
   "metadata": {},
   "source": [
    "##### Importing relevant wordcloud packages"
   ]
  },
  {
   "cell_type": "code",
   "execution_count": 20,
   "metadata": {},
   "outputs": [],
   "source": [
    "import wordcloud\n",
    "from wordcloud import WordCloud, STOPWORDS\n",
    "import matplotlib.pyplot as plt"
   ]
  },
  {
   "cell_type": "code",
   "execution_count": 21,
   "metadata": {},
   "outputs": [],
   "source": [
    "import random\n",
    "def grey_color_func(word, font_size, position, orientation, random_state=None, **kwargs):\n",
    "    return \"hsl(0, 0%%, %d%%)\" % random.randint(1, 20)"
   ]
  },
  {
   "cell_type": "markdown",
   "metadata": {},
   "source": [
    "##### Using word cloud to also filter out frequent text that may be irrelevant"
   ]
  },
  {
   "cell_type": "code",
   "execution_count": 22,
   "metadata": {},
   "outputs": [
    {
     "data": {
      "image/png": "[encoded data removed]",
      "text/plain": [
       "<Figure size 720x1440 with 1 Axes>"
      ]
     },
     "metadata": {},
     "output_type": "display_data"
    }
   ],
   "source": [
    "stp = STOPWORDS.copy()\n",
    "# filtering out text\n",
    "stp.add('Starbucks')\n",
    "\n",
    "wc = WordCloud(background_color=\"white\", max_words=50,  stopwords=stp)\n",
    "# generate word cloud\n",
    "wc.generate(Comments_Tokenized_Concat)\n",
    "\n",
    "plt.figure(figsize=(10,20))\n",
    "plt.imshow(wc.recolor(color_func=grey_color_func, random_state=3))\n",
    "plt.show()"
   ]
  },
  {
   "cell_type": "markdown",
   "metadata": {},
   "source": [
    "###### Tuning filter to filter out text that looks irrelavant"
   ]
  },
  {
   "cell_type": "code",
   "execution_count": 23,
   "metadata": {},
   "outputs": [
    {
     "data": {
      "image/png": "[encoded data removed]",
      "text/plain": [
       "<Figure size 720x1440 with 1 Axes>"
      ]
     },
     "metadata": {},
     "output_type": "display_data"
    }
   ],
   "source": [
    "stp = STOPWORDS.copy()\n",
    "# filtering out text\n",
    "stp.add('Starbucks')\n",
    "stp.add('Im')\n",
    "stp.add('One')\n",
    "stp.add('thats')\n",
    "stp.add('still')\n",
    "stp.add('lol')\n",
    "stp.add('will')\n",
    "stp.add('drink')\n",
    "stp.add('got')\n",
    "stp.add('go')\n",
    "stp.add('youre')\n",
    "\n",
    "wc = WordCloud(background_color=\"white\", max_words=50,  stopwords=stp)\n",
    "# generate word cloud\n",
    "wc.generate(Comments_Tokenized_Concat)\n",
    "\n",
    "plt.figure(figsize=(10,20))\n",
    "plt.imshow(wc.recolor(color_func=grey_color_func, random_state=3))\n",
    "plt.show()"
   ]
  },
  {
   "cell_type": "markdown",
   "metadata": {},
   "source": [
    "## Notes:\n",
    "- worth investigating employee's experience on the job.\n",
    "- Worth exploring relationship between \"pay\", \"Manager\", \"Pay us\", \"work\", \"job\" and \"leave\"?\n",
    "- Time elements involved? \"Shift\", \"hour\", \"time\", \"week\", \"day\" etc...\n",
    "- Investigate why \"partner\" would be involved. Could help with optimising product for target audience?\n",
    "- Possible miscommunication/ misinformation? (\"know\", \"think\", \"working\")\n",
    "- Staff morale/ relationships with peer? (\"thank\", \"said\")"
   ]
  },
  {
   "cell_type": "markdown",
   "metadata": {},
   "source": [
    "# 3. Performing Sentiment Analysis\n",
    "\n",
    "### Goal is to explore the data with the use of different packages such as:\n",
    "- Vader (pre-built)\n",
    "- Textblob (Pre-built)\n",
    "- Custom Trained"
   ]
  },
  {
   "cell_type": "markdown",
   "metadata": {},
   "source": [
    "### 3.1 Using Vader"
   ]
  },
  {
   "cell_type": "code",
   "execution_count": 24,
   "metadata": {},
   "outputs": [],
   "source": [
    "from nltk.sentiment.vader import SentimentIntensityAnalyzer, VaderConstants\n",
    "\n",
    "#initializing VADER for Python script\n",
    "sid = SentimentIntensityAnalyzer()"
   ]
  },
  {
   "cell_type": "markdown",
   "metadata": {},
   "source": [
    "##### Creating dictionary for manually assigning sentiment score for jargons/ informal terms.\n",
    "Further investigation of trends can allow such tuning"
   ]
  },
  {
   "cell_type": "code",
   "execution_count": null,
   "metadata": {},
   "outputs": [],
   "source": [
    "# new_words = {\n",
    "#    'pay us': -300\n",
    "# }\n",
    "#\n",
    "# sid.lexicon.update(new_words)\n",
    "#"
   ]
  },
  {
   "cell_type": "markdown",
   "metadata": {},
   "source": [
    "##### Setting up dataset for sentiment analysis (Vader)\n",
    "\n",
    "- For setting up the project, **Starbucks_Replies_Dataset.csv** shall be used.\n",
    "- For updated posts/results, the **API call function** shall be used instead."
   ]
  },
  {
   "cell_type": "code",
   "execution_count": 25,
   "metadata": {
    "scrolled": true
   },
   "outputs": [
    {
     "data": {
      "text/html": [
       "<div>\n",
       "<style scoped>\n",
       "    .dataframe tbody tr th:only-of-type {\n",
       "        vertical-align: middle;\n",
       "    }\n",
       "\n",
       "    .dataframe tbody tr th {\n",
       "        vertical-align: top;\n",
       "    }\n",
       "\n",
       "    .dataframe thead th {\n",
       "        text-align: right;\n",
       "    }\n",
       "</style>\n",
       "<table border=\"1\" class=\"dataframe\">\n",
       "  <thead>\n",
       "    <tr style=\"text-align: right;\">\n",
       "      <th></th>\n",
       "      <th>Reply</th>\n",
       "      <th>Upvote</th>\n",
       "      <th>Time</th>\n",
       "      <th>Key</th>\n",
       "    </tr>\n",
       "  </thead>\n",
       "  <tbody>\n",
       "    <tr>\n",
       "      <th>0</th>\n",
       "      <td>22 March 2020 Update:\\n\\n[The incentive has be...</td>\n",
       "      <td>1.0</td>\n",
       "      <td>2020-03-23 09:44:57</td>\n",
       "      <td>0.0</td>\n",
       "    </tr>\n",
       "    <tr>\n",
       "      <th>1</th>\n",
       "      <td>Hi partners, checking in here from my doctor o...</td>\n",
       "      <td>80.0</td>\n",
       "      <td>2020-03-22 07:27:09</td>\n",
       "      <td>0.0</td>\n",
       "    </tr>\n",
       "    <tr>\n",
       "      <th>2</th>\n",
       "      <td>Thank you for all your hard work keeping this ...</td>\n",
       "      <td>96.0</td>\n",
       "      <td>2020-03-22 05:09:09</td>\n",
       "      <td>0.0</td>\n",
       "    </tr>\n",
       "  </tbody>\n",
       "</table>\n",
       "</div>"
      ],
      "text/plain": [
       "                                               Reply  Upvote  \\\n",
       "0  22 March 2020 Update:\\n\\n[The incentive has be...     1.0   \n",
       "1  Hi partners, checking in here from my doctor o...    80.0   \n",
       "2  Thank you for all your hard work keeping this ...    96.0   \n",
       "\n",
       "                  Time  Key  \n",
       "0  2020-03-23 09:44:57  0.0  \n",
       "1  2020-03-22 07:27:09  0.0  \n",
       "2  2020-03-22 05:09:09  0.0  "
      ]
     },
     "execution_count": 25,
     "metadata": {},
     "output_type": "execute_result"
    }
   ],
   "source": [
    "# Saved csv file\n",
    "Comments = pd.read_csv('Starbucks_Replies_Dataset.csv')\n",
    "\n",
    "# API call function\n",
    "# posts = subreddit_posts('starbucks', 200) \n",
    "# posts.shape\n",
    "\n",
    "Comments.head(3)"
   ]
  },
  {
   "cell_type": "markdown",
   "metadata": {},
   "source": [
    "#####  Preparing data for Vader"
   ]
  },
  {
   "cell_type": "code",
   "execution_count": 26,
   "metadata": {},
   "outputs": [],
   "source": [
    "# Pre-process functions\n",
    "Comments.Reply = Comments.Reply.apply(lambda x: re.sub(r'\\(?http\\S+', '', x))\n",
    "Comments.Reply = Comments.Reply.apply(lambda x: re.sub(r'[^\\w\\s]', '', x))\n",
    "Comments.Reply = Comments.Reply.apply(lambda x: ' '.join(nltk.word_tokenize(x)))"
   ]
  },
  {
   "cell_type": "code",
   "execution_count": 27,
   "metadata": {},
   "outputs": [
    {
     "data": {
      "text/html": [
       "<div>\n",
       "<style scoped>\n",
       "    .dataframe tbody tr th:only-of-type {\n",
       "        vertical-align: middle;\n",
       "    }\n",
       "\n",
       "    .dataframe tbody tr th {\n",
       "        vertical-align: top;\n",
       "    }\n",
       "\n",
       "    .dataframe thead th {\n",
       "        text-align: right;\n",
       "    }\n",
       "</style>\n",
       "<table border=\"1\" class=\"dataframe\">\n",
       "  <thead>\n",
       "    <tr style=\"text-align: right;\">\n",
       "      <th></th>\n",
       "      <th>Reply</th>\n",
       "      <th>Upvote</th>\n",
       "      <th>Time</th>\n",
       "      <th>Key</th>\n",
       "    </tr>\n",
       "  </thead>\n",
       "  <tbody>\n",
       "    <tr>\n",
       "      <th>0</th>\n",
       "      <td>22 March 2020 Update The incentive has been an...</td>\n",
       "      <td>1.0</td>\n",
       "      <td>2020-03-23 09:44:57</td>\n",
       "      <td>0.0</td>\n",
       "    </tr>\n",
       "    <tr>\n",
       "      <th>1</th>\n",
       "      <td>Hi partners checking in here from my doctor or...</td>\n",
       "      <td>80.0</td>\n",
       "      <td>2020-03-22 07:27:09</td>\n",
       "      <td>0.0</td>\n",
       "    </tr>\n",
       "    <tr>\n",
       "      <th>2</th>\n",
       "      <td>Thank you for all your hard work keeping this ...</td>\n",
       "      <td>96.0</td>\n",
       "      <td>2020-03-22 05:09:09</td>\n",
       "      <td>0.0</td>\n",
       "    </tr>\n",
       "  </tbody>\n",
       "</table>\n",
       "</div>"
      ],
      "text/plain": [
       "                                               Reply  Upvote  \\\n",
       "0  22 March 2020 Update The incentive has been an...     1.0   \n",
       "1  Hi partners checking in here from my doctor or...    80.0   \n",
       "2  Thank you for all your hard work keeping this ...    96.0   \n",
       "\n",
       "                  Time  Key  \n",
       "0  2020-03-23 09:44:57  0.0  \n",
       "1  2020-03-22 07:27:09  0.0  \n",
       "2  2020-03-22 05:09:09  0.0  "
      ]
     },
     "execution_count": 27,
     "metadata": {},
     "output_type": "execute_result"
    }
   ],
   "source": [
    "Comments.head(3)"
   ]
  },
  {
   "cell_type": "markdown",
   "metadata": {},
   "source": [
    "##### Creating then filling \"neg\", \"neu\", \"pos\" and \"compound\" columns while applying Vader to Reply column of data"
   ]
  },
  {
   "cell_type": "code",
   "execution_count": 28,
   "metadata": {},
   "outputs": [],
   "source": [
    "Comments[['neg','neu','pos','compound']] = Comments.Reply.apply(lambda x: pd.Series(sid.polarity_scores(x)))"
   ]
  },
  {
   "cell_type": "code",
   "execution_count": 29,
   "metadata": {},
   "outputs": [
    {
     "data": {
      "text/html": [
       "<div>\n",
       "<style scoped>\n",
       "    .dataframe tbody tr th:only-of-type {\n",
       "        vertical-align: middle;\n",
       "    }\n",
       "\n",
       "    .dataframe tbody tr th {\n",
       "        vertical-align: top;\n",
       "    }\n",
       "\n",
       "    .dataframe thead th {\n",
       "        text-align: right;\n",
       "    }\n",
       "</style>\n",
       "<table border=\"1\" class=\"dataframe\">\n",
       "  <thead>\n",
       "    <tr style=\"text-align: right;\">\n",
       "      <th></th>\n",
       "      <th>Reply</th>\n",
       "      <th>Upvote</th>\n",
       "      <th>Time</th>\n",
       "      <th>Key</th>\n",
       "      <th>neg</th>\n",
       "      <th>neu</th>\n",
       "      <th>pos</th>\n",
       "      <th>compound</th>\n",
       "    </tr>\n",
       "  </thead>\n",
       "  <tbody>\n",
       "    <tr>\n",
       "      <th>0</th>\n",
       "      <td>22 March 2020 Update The incentive has been an...</td>\n",
       "      <td>1.0</td>\n",
       "      <td>2020-03-23 09:44:57</td>\n",
       "      <td>0.0</td>\n",
       "      <td>0.153</td>\n",
       "      <td>0.719</td>\n",
       "      <td>0.128</td>\n",
       "      <td>-0.6487</td>\n",
       "    </tr>\n",
       "    <tr>\n",
       "      <th>1</th>\n",
       "      <td>Hi partners checking in here from my doctor or...</td>\n",
       "      <td>80.0</td>\n",
       "      <td>2020-03-22 07:27:09</td>\n",
       "      <td>0.0</td>\n",
       "      <td>0.062</td>\n",
       "      <td>0.798</td>\n",
       "      <td>0.140</td>\n",
       "      <td>0.9600</td>\n",
       "    </tr>\n",
       "    <tr>\n",
       "      <th>2</th>\n",
       "      <td>Thank you for all your hard work keeping this ...</td>\n",
       "      <td>96.0</td>\n",
       "      <td>2020-03-22 05:09:09</td>\n",
       "      <td>0.0</td>\n",
       "      <td>0.056</td>\n",
       "      <td>0.643</td>\n",
       "      <td>0.301</td>\n",
       "      <td>0.7269</td>\n",
       "    </tr>\n",
       "  </tbody>\n",
       "</table>\n",
       "</div>"
      ],
      "text/plain": [
       "                                               Reply  Upvote  \\\n",
       "0  22 March 2020 Update The incentive has been an...     1.0   \n",
       "1  Hi partners checking in here from my doctor or...    80.0   \n",
       "2  Thank you for all your hard work keeping this ...    96.0   \n",
       "\n",
       "                  Time  Key    neg    neu    pos  compound  \n",
       "0  2020-03-23 09:44:57  0.0  0.153  0.719  0.128   -0.6487  \n",
       "1  2020-03-22 07:27:09  0.0  0.062  0.798  0.140    0.9600  \n",
       "2  2020-03-22 05:09:09  0.0  0.056  0.643  0.301    0.7269  "
      ]
     },
     "execution_count": 29,
     "metadata": {},
     "output_type": "execute_result"
    }
   ],
   "source": [
    "Comments.head(3)"
   ]
  },
  {
   "cell_type": "code",
   "execution_count": null,
   "metadata": {},
   "outputs": [],
   "source": [
    "# Saving vader sentiment results\n",
    "Comments.to_csv('StarbucksComments_VaderSentiment.csv', index=False)"
   ]
  },
  {
   "cell_type": "markdown",
   "metadata": {},
   "source": [
    "##### Exploring sentiment grades and mean values"
   ]
  },
  {
   "cell_type": "code",
   "execution_count": 30,
   "metadata": {},
   "outputs": [
    {
     "data": {
      "text/html": [
       "<div>\n",
       "<style scoped>\n",
       "    .dataframe tbody tr th:only-of-type {\n",
       "        vertical-align: middle;\n",
       "    }\n",
       "\n",
       "    .dataframe tbody tr th {\n",
       "        vertical-align: top;\n",
       "    }\n",
       "\n",
       "    .dataframe thead th {\n",
       "        text-align: right;\n",
       "    }\n",
       "</style>\n",
       "<table border=\"1\" class=\"dataframe\">\n",
       "  <thead>\n",
       "    <tr style=\"text-align: right;\">\n",
       "      <th></th>\n",
       "      <th>Reply</th>\n",
       "      <th>Upvote</th>\n",
       "      <th>Time</th>\n",
       "      <th>Key</th>\n",
       "      <th>neg</th>\n",
       "      <th>neu</th>\n",
       "      <th>pos</th>\n",
       "      <th>compound</th>\n",
       "    </tr>\n",
       "  </thead>\n",
       "  <tbody>\n",
       "    <tr>\n",
       "      <th>0</th>\n",
       "      <td>22 March 2020 Update The incentive has been an...</td>\n",
       "      <td>1.0</td>\n",
       "      <td>2020-03-23 09:44:57</td>\n",
       "      <td>0.0</td>\n",
       "      <td>0.153</td>\n",
       "      <td>0.719</td>\n",
       "      <td>0.128</td>\n",
       "      <td>-0.6487</td>\n",
       "    </tr>\n",
       "    <tr>\n",
       "      <th>1</th>\n",
       "      <td>Hi partners checking in here from my doctor or...</td>\n",
       "      <td>80.0</td>\n",
       "      <td>2020-03-22 07:27:09</td>\n",
       "      <td>0.0</td>\n",
       "      <td>0.062</td>\n",
       "      <td>0.798</td>\n",
       "      <td>0.140</td>\n",
       "      <td>0.9611</td>\n",
       "    </tr>\n",
       "    <tr>\n",
       "      <th>2</th>\n",
       "      <td>Thank you for all your hard work keeping this ...</td>\n",
       "      <td>96.0</td>\n",
       "      <td>2020-03-22 05:09:09</td>\n",
       "      <td>0.0</td>\n",
       "      <td>0.056</td>\n",
       "      <td>0.643</td>\n",
       "      <td>0.301</td>\n",
       "      <td>0.7269</td>\n",
       "    </tr>\n",
       "    <tr>\n",
       "      <th>3</th>\n",
       "      <td>I mentioned this in another thread but my stor...</td>\n",
       "      <td>34.0</td>\n",
       "      <td>2020-03-22 05:15:44</td>\n",
       "      <td>0.0</td>\n",
       "      <td>0.076</td>\n",
       "      <td>0.739</td>\n",
       "      <td>0.184</td>\n",
       "      <td>0.9050</td>\n",
       "    </tr>\n",
       "    <tr>\n",
       "      <th>4</th>\n",
       "      <td>Everyone in my store but one person took the l...</td>\n",
       "      <td>20.0</td>\n",
       "      <td>2020-03-22 06:26:28</td>\n",
       "      <td>0.0</td>\n",
       "      <td>0.155</td>\n",
       "      <td>0.845</td>\n",
       "      <td>0.000</td>\n",
       "      <td>-0.6310</td>\n",
       "    </tr>\n",
       "    <tr>\n",
       "      <th>...</th>\n",
       "      <td>...</td>\n",
       "      <td>...</td>\n",
       "      <td>...</td>\n",
       "      <td>...</td>\n",
       "      <td>...</td>\n",
       "      <td>...</td>\n",
       "      <td>...</td>\n",
       "      <td>...</td>\n",
       "    </tr>\n",
       "    <tr>\n",
       "      <th>2931</th>\n",
       "      <td>A venerated Virginian barista</td>\n",
       "      <td>7.0</td>\n",
       "      <td>2020-09-14 14:28:44</td>\n",
       "      <td>198.0</td>\n",
       "      <td>0.000</td>\n",
       "      <td>1.000</td>\n",
       "      <td>0.000</td>\n",
       "      <td>0.0000</td>\n",
       "    </tr>\n",
       "    <tr>\n",
       "      <th>2932</th>\n",
       "      <td>yall should just blast it during happy hourdou...</td>\n",
       "      <td>5.0</td>\n",
       "      <td>2020-09-14 14:54:39</td>\n",
       "      <td>198.0</td>\n",
       "      <td>0.000</td>\n",
       "      <td>0.802</td>\n",
       "      <td>0.198</td>\n",
       "      <td>0.5719</td>\n",
       "    </tr>\n",
       "    <tr>\n",
       "      <th>2933</th>\n",
       "      <td>BOOM goes the timer watch the chai and steamed...</td>\n",
       "      <td>4.0</td>\n",
       "      <td>2020-09-14 20:36:11</td>\n",
       "      <td>198.0</td>\n",
       "      <td>0.000</td>\n",
       "      <td>1.000</td>\n",
       "      <td>0.000</td>\n",
       "      <td>0.0000</td>\n",
       "    </tr>\n",
       "    <tr>\n",
       "      <th>2934</th>\n",
       "      <td>I scrolled down quickly and honestly I dont ev...</td>\n",
       "      <td>3.0</td>\n",
       "      <td>2020-09-14 10:16:31</td>\n",
       "      <td>199.0</td>\n",
       "      <td>0.000</td>\n",
       "      <td>0.750</td>\n",
       "      <td>0.250</td>\n",
       "      <td>0.7184</td>\n",
       "    </tr>\n",
       "    <tr>\n",
       "      <th>2935</th>\n",
       "      <td>Ehwiaowowo i thought that was a koala oops</td>\n",
       "      <td>2.0</td>\n",
       "      <td>2020-09-14 16:13:37</td>\n",
       "      <td>199.0</td>\n",
       "      <td>0.000</td>\n",
       "      <td>1.000</td>\n",
       "      <td>0.000</td>\n",
       "      <td>0.0000</td>\n",
       "    </tr>\n",
       "  </tbody>\n",
       "</table>\n",
       "<p>2936 rows × 8 columns</p>\n",
       "</div>"
      ],
      "text/plain": [
       "                                                  Reply  Upvote  \\\n",
       "0     22 March 2020 Update The incentive has been an...     1.0   \n",
       "1     Hi partners checking in here from my doctor or...    80.0   \n",
       "2     Thank you for all your hard work keeping this ...    96.0   \n",
       "3     I mentioned this in another thread but my stor...    34.0   \n",
       "4     Everyone in my store but one person took the l...    20.0   \n",
       "...                                                 ...     ...   \n",
       "2931                      A venerated Virginian barista     7.0   \n",
       "2932  yall should just blast it during happy hourdou...     5.0   \n",
       "2933  BOOM goes the timer watch the chai and steamed...     4.0   \n",
       "2934  I scrolled down quickly and honestly I dont ev...     3.0   \n",
       "2935         Ehwiaowowo i thought that was a koala oops     2.0   \n",
       "\n",
       "                     Time    Key    neg    neu    pos  compound  \n",
       "0     2020-03-23 09:44:57    0.0  0.153  0.719  0.128   -0.6487  \n",
       "1     2020-03-22 07:27:09    0.0  0.062  0.798  0.140    0.9611  \n",
       "2     2020-03-22 05:09:09    0.0  0.056  0.643  0.301    0.7269  \n",
       "3     2020-03-22 05:15:44    0.0  0.076  0.739  0.184    0.9050  \n",
       "4     2020-03-22 06:26:28    0.0  0.155  0.845  0.000   -0.6310  \n",
       "...                   ...    ...    ...    ...    ...       ...  \n",
       "2931  2020-09-14 14:28:44  198.0  0.000  1.000  0.000    0.0000  \n",
       "2932  2020-09-14 14:54:39  198.0  0.000  0.802  0.198    0.5719  \n",
       "2933  2020-09-14 20:36:11  198.0  0.000  1.000  0.000    0.0000  \n",
       "2934  2020-09-14 10:16:31  199.0  0.000  0.750  0.250    0.7184  \n",
       "2935  2020-09-14 16:13:37  199.0  0.000  1.000  0.000    0.0000  \n",
       "\n",
       "[2936 rows x 8 columns]"
      ]
     },
     "execution_count": 30,
     "metadata": {},
     "output_type": "execute_result"
    }
   ],
   "source": [
    "# In hopes of consistency, Vader analysed comments will be saved first, then reloaded before performing analysis\n",
    "Comments_Vader = pd.read_csv('StarbucksComments_VaderSentiment.csv')\n",
    "Comments_Vader"
   ]
  },
  {
   "cell_type": "code",
   "execution_count": 31,
   "metadata": {},
   "outputs": [
    {
     "data": {
      "text/plain": [
       "<matplotlib.axes._subplots.AxesSubplot at 0x25bc198dd00>"
      ]
     },
     "execution_count": 31,
     "metadata": {},
     "output_type": "execute_result"
    },
    {
     "data": {
      "image/png": "[encoded data removed]",
      "text/plain": [
       "<Figure size 432x288 with 1 Axes>"
      ]
     },
     "metadata": {},
     "output_type": "display_data"
    }
   ],
   "source": [
    "sns.distplot(Comments_Vader[\"neg\"])"
   ]
  },
  {
   "cell_type": "code",
   "execution_count": 32,
   "metadata": {},
   "outputs": [
    {
     "data": {
      "text/plain": [
       "0.09182595367847442"
      ]
     },
     "execution_count": 32,
     "metadata": {},
     "output_type": "execute_result"
    }
   ],
   "source": [
    "Comments_Vader[\"neg\"].mean()"
   ]
  },
  {
   "cell_type": "code",
   "execution_count": 33,
   "metadata": {},
   "outputs": [
    {
     "data": {
      "text/plain": [
       "<matplotlib.axes._subplots.AxesSubplot at 0x25bc1986310>"
      ]
     },
     "execution_count": 33,
     "metadata": {},
     "output_type": "execute_result"
    },
    {
     "data": {
      "image/png": "[encoded data removed]",
      "text/plain": [
       "<Figure size 432x288 with 1 Axes>"
      ]
     },
     "metadata": {},
     "output_type": "display_data"
    }
   ],
   "source": [
    "sns.distplot(Comments_Vader[\"neu\"])"
   ]
  },
  {
   "cell_type": "code",
   "execution_count": 34,
   "metadata": {},
   "outputs": [
    {
     "data": {
      "text/plain": [
       "0.7731927792915512"
      ]
     },
     "execution_count": 34,
     "metadata": {},
     "output_type": "execute_result"
    }
   ],
   "source": [
    "Comments_Vader[\"neu\"].mean()"
   ]
  },
  {
   "cell_type": "code",
   "execution_count": 35,
   "metadata": {},
   "outputs": [
    {
     "data": {
      "text/plain": [
       "<matplotlib.axes._subplots.AxesSubplot at 0x25bc864f820>"
      ]
     },
     "execution_count": 35,
     "metadata": {},
     "output_type": "execute_result"
    },
    {
     "data": {
      "image/png": "[encoded data removed]",
      "text/plain": [
       "<Figure size 432x288 with 1 Axes>"
      ]
     },
     "metadata": {},
     "output_type": "display_data"
    }
   ],
   "source": [
    "sns.distplot(Comments_Vader[\"pos\"])"
   ]
  },
  {
   "cell_type": "code",
   "execution_count": 36,
   "metadata": {},
   "outputs": [
    {
     "data": {
      "text/plain": [
       "0.12783957765667578"
      ]
     },
     "execution_count": 36,
     "metadata": {},
     "output_type": "execute_result"
    }
   ],
   "source": [
    "Comments_Vader[\"pos\"].mean()"
   ]
  },
  {
   "cell_type": "code",
   "execution_count": 37,
   "metadata": {},
   "outputs": [
    {
     "data": {
      "text/plain": [
       "<matplotlib.axes._subplots.AxesSubplot at 0x25bbf616040>"
      ]
     },
     "execution_count": 37,
     "metadata": {},
     "output_type": "execute_result"
    },
    {
     "data": {
      "image/png": "[encoded data removed]",
      "text/plain": [
       "<Figure size 432x288 with 1 Axes>"
      ]
     },
     "metadata": {},
     "output_type": "display_data"
    }
   ],
   "source": [
    "sns.distplot(Comments_Vader[\"compound\"])"
   ]
  },
  {
   "cell_type": "code",
   "execution_count": 38,
   "metadata": {},
   "outputs": [
    {
     "data": {
      "text/plain": [
       "0.09862755449591291"
      ]
     },
     "execution_count": 38,
     "metadata": {},
     "output_type": "execute_result"
    }
   ],
   "source": [
    "Comments_Vader[\"compound\"].mean()"
   ]
  },
  {
   "cell_type": "code",
   "execution_count": 39,
   "metadata": {},
   "outputs": [
    {
     "data": {
      "image/png": "[encoded data removed]",
      "text/plain": [
       "<Figure size 432x288 with 1 Axes>"
      ]
     },
     "metadata": {},
     "output_type": "display_data"
    }
   ],
   "source": [
    "# Overview visualisation of Vader Sentiment Analysis\n",
    "\n",
    "plt.scatter(Comments_Vader[\"neg\"],Comments_Vader[\"pos\"])\n",
    "plt.title('Positive vs Negative scores')\n",
    "plt.xlabel('Negative score')\n",
    "plt.ylabel('Positive score')\n",
    "plt.show()"
   ]
  },
  {
   "cell_type": "markdown",
   "metadata": {},
   "source": [
    "### Notes:\n",
    "\n",
    "- Data shows overall sentiment grades to be slightly positive\n",
    "- Pie chart would be good to visualise distribution"
   ]
  },
  {
   "cell_type": "markdown",
   "metadata": {},
   "source": [
    "### 3.2 Using Textblob"
   ]
  },
  {
   "cell_type": "code",
   "execution_count": 40,
   "metadata": {},
   "outputs": [],
   "source": [
    "from textblob.sentiments import NaiveBayesAnalyzer, PatternAnalyzer\n",
    "from textblob import Blobber\n",
    "tba = Blobber(analyzer=NaiveBayesAnalyzer())"
   ]
  },
  {
   "cell_type": "markdown",
   "metadata": {},
   "source": [
    "#####  Setting up dataset for sentiment analysis (Textblob)\n",
    "\n",
    "- For setting up the project, **Starbucks_Replies_Dataset.csv** shall be used.\n",
    "- For updated posts/results, the **API call function** shall be used instead."
   ]
  },
  {
   "cell_type": "code",
   "execution_count": 41,
   "metadata": {},
   "outputs": [
    {
     "data": {
      "text/html": [
       "<div>\n",
       "<style scoped>\n",
       "    .dataframe tbody tr th:only-of-type {\n",
       "        vertical-align: middle;\n",
       "    }\n",
       "\n",
       "    .dataframe tbody tr th {\n",
       "        vertical-align: top;\n",
       "    }\n",
       "\n",
       "    .dataframe thead th {\n",
       "        text-align: right;\n",
       "    }\n",
       "</style>\n",
       "<table border=\"1\" class=\"dataframe\">\n",
       "  <thead>\n",
       "    <tr style=\"text-align: right;\">\n",
       "      <th></th>\n",
       "      <th>Reply</th>\n",
       "      <th>Upvote</th>\n",
       "      <th>Time</th>\n",
       "      <th>Key</th>\n",
       "    </tr>\n",
       "  </thead>\n",
       "  <tbody>\n",
       "    <tr>\n",
       "      <th>0</th>\n",
       "      <td>22 March 2020 Update:\\n\\n[The incentive has be...</td>\n",
       "      <td>1.0</td>\n",
       "      <td>2020-03-23 09:44:57</td>\n",
       "      <td>0.0</td>\n",
       "    </tr>\n",
       "    <tr>\n",
       "      <th>1</th>\n",
       "      <td>Hi partners, checking in here from my doctor o...</td>\n",
       "      <td>80.0</td>\n",
       "      <td>2020-03-22 07:27:09</td>\n",
       "      <td>0.0</td>\n",
       "    </tr>\n",
       "    <tr>\n",
       "      <th>2</th>\n",
       "      <td>Thank you for all your hard work keeping this ...</td>\n",
       "      <td>96.0</td>\n",
       "      <td>2020-03-22 05:09:09</td>\n",
       "      <td>0.0</td>\n",
       "    </tr>\n",
       "  </tbody>\n",
       "</table>\n",
       "</div>"
      ],
      "text/plain": [
       "                                               Reply  Upvote  \\\n",
       "0  22 March 2020 Update:\\n\\n[The incentive has be...     1.0   \n",
       "1  Hi partners, checking in here from my doctor o...    80.0   \n",
       "2  Thank you for all your hard work keeping this ...    96.0   \n",
       "\n",
       "                  Time  Key  \n",
       "0  2020-03-23 09:44:57  0.0  \n",
       "1  2020-03-22 07:27:09  0.0  \n",
       "2  2020-03-22 05:09:09  0.0  "
      ]
     },
     "execution_count": 41,
     "metadata": {},
     "output_type": "execute_result"
    }
   ],
   "source": [
    "# Saved csv file\n",
    "Comments = pd.read_csv('Starbucks_Replies_Dataset.csv')\n",
    "\n",
    "# API call function\n",
    "# posts = subreddit_posts('starbucks', 200) \n",
    "# posts.shape\n",
    "\n",
    "Comments.head(3)"
   ]
  },
  {
   "cell_type": "markdown",
   "metadata": {},
   "source": [
    "##### Preparing data for Textblob"
   ]
  },
  {
   "cell_type": "code",
   "execution_count": 42,
   "metadata": {},
   "outputs": [],
   "source": [
    "# Pre-process functions\n",
    "Comments.Reply = Comments.Reply.apply(lambda x: re.sub(r'\\(?http\\S+', '', x))\n",
    "Comments.Reply = Comments.Reply.apply(lambda x: re.sub(r'[^\\w\\s]', '', x))\n",
    "Comments.Reply = Comments.Reply.apply(lambda x: ' '.join(nltk.word_tokenize(x)))"
   ]
  },
  {
   "cell_type": "markdown",
   "metadata": {},
   "source": [
    "##### Creating then filling \"classification\", \"positive' and \"negative\" columns while applying Textblob to Reply column of data"
   ]
  },
  {
   "cell_type": "code",
   "execution_count": 43,
   "metadata": {},
   "outputs": [],
   "source": [
    "Comments[['Classification','positive','negative']] = Comments.Reply.apply(lambda x: pd.Series({'Classification':tba(x).sentiment[0],\n",
    "                                                                        'positive':tba(x).sentiment[1],\n",
    "                                                                        'negative':tba(x).sentiment[2]}))"
   ]
  },
  {
   "cell_type": "code",
   "execution_count": 44,
   "metadata": {},
   "outputs": [
    {
     "data": {
      "text/html": [
       "<div>\n",
       "<style scoped>\n",
       "    .dataframe tbody tr th:only-of-type {\n",
       "        vertical-align: middle;\n",
       "    }\n",
       "\n",
       "    .dataframe tbody tr th {\n",
       "        vertical-align: top;\n",
       "    }\n",
       "\n",
       "    .dataframe thead th {\n",
       "        text-align: right;\n",
       "    }\n",
       "</style>\n",
       "<table border=\"1\" class=\"dataframe\">\n",
       "  <thead>\n",
       "    <tr style=\"text-align: right;\">\n",
       "      <th></th>\n",
       "      <th>Reply</th>\n",
       "      <th>Upvote</th>\n",
       "      <th>Time</th>\n",
       "      <th>Key</th>\n",
       "      <th>Classification</th>\n",
       "      <th>positive</th>\n",
       "      <th>negative</th>\n",
       "    </tr>\n",
       "  </thead>\n",
       "  <tbody>\n",
       "    <tr>\n",
       "      <th>0</th>\n",
       "      <td>22 March 2020 Update The incentive has been an...</td>\n",
       "      <td>1.0</td>\n",
       "      <td>2020-03-23 09:44:57</td>\n",
       "      <td>0.0</td>\n",
       "      <td>pos</td>\n",
       "      <td>0.798205</td>\n",
       "      <td>0.201795</td>\n",
       "    </tr>\n",
       "    <tr>\n",
       "      <th>1</th>\n",
       "      <td>Hi partners checking in here from my doctor or...</td>\n",
       "      <td>80.0</td>\n",
       "      <td>2020-03-22 07:27:09</td>\n",
       "      <td>0.0</td>\n",
       "      <td>neg</td>\n",
       "      <td>0.021248</td>\n",
       "      <td>0.978752</td>\n",
       "    </tr>\n",
       "    <tr>\n",
       "      <th>2</th>\n",
       "      <td>Thank you for all your hard work keeping this ...</td>\n",
       "      <td>96.0</td>\n",
       "      <td>2020-03-22 05:09:09</td>\n",
       "      <td>0.0</td>\n",
       "      <td>pos</td>\n",
       "      <td>0.901818</td>\n",
       "      <td>0.098182</td>\n",
       "    </tr>\n",
       "    <tr>\n",
       "      <th>3</th>\n",
       "      <td>I mentioned this in another thread but my stor...</td>\n",
       "      <td>34.0</td>\n",
       "      <td>2020-03-22 05:15:44</td>\n",
       "      <td>0.0</td>\n",
       "      <td>pos</td>\n",
       "      <td>0.737362</td>\n",
       "      <td>0.262638</td>\n",
       "    </tr>\n",
       "    <tr>\n",
       "      <th>4</th>\n",
       "      <td>Everyone in my store but one person took the l...</td>\n",
       "      <td>20.0</td>\n",
       "      <td>2020-03-22 06:26:28</td>\n",
       "      <td>0.0</td>\n",
       "      <td>pos</td>\n",
       "      <td>0.877318</td>\n",
       "      <td>0.122682</td>\n",
       "    </tr>\n",
       "  </tbody>\n",
       "</table>\n",
       "</div>"
      ],
      "text/plain": [
       "                                               Reply  Upvote  \\\n",
       "0  22 March 2020 Update The incentive has been an...     1.0   \n",
       "1  Hi partners checking in here from my doctor or...    80.0   \n",
       "2  Thank you for all your hard work keeping this ...    96.0   \n",
       "3  I mentioned this in another thread but my stor...    34.0   \n",
       "4  Everyone in my store but one person took the l...    20.0   \n",
       "\n",
       "                  Time  Key Classification  positive  negative  \n",
       "0  2020-03-23 09:44:57  0.0            pos  0.798205  0.201795  \n",
       "1  2020-03-22 07:27:09  0.0            neg  0.021248  0.978752  \n",
       "2  2020-03-22 05:09:09  0.0            pos  0.901818  0.098182  \n",
       "3  2020-03-22 05:15:44  0.0            pos  0.737362  0.262638  \n",
       "4  2020-03-22 06:26:28  0.0            pos  0.877318  0.122682  "
      ]
     },
     "execution_count": 44,
     "metadata": {},
     "output_type": "execute_result"
    }
   ],
   "source": [
    "Comments.head(5)"
   ]
  },
  {
   "cell_type": "code",
   "execution_count": null,
   "metadata": {},
   "outputs": [],
   "source": [
    "# Saving vader sentiment results\n",
    "Comments.to_csv('StarbucksComments_TextBlobSentiment.csv', index=False)"
   ]
  },
  {
   "cell_type": "markdown",
   "metadata": {},
   "source": [
    "##### Finding mean sentiment grades"
   ]
  },
  {
   "cell_type": "code",
   "execution_count": 45,
   "metadata": {},
   "outputs": [
    {
     "data": {
      "text/html": [
       "<div>\n",
       "<style scoped>\n",
       "    .dataframe tbody tr th:only-of-type {\n",
       "        vertical-align: middle;\n",
       "    }\n",
       "\n",
       "    .dataframe tbody tr th {\n",
       "        vertical-align: top;\n",
       "    }\n",
       "\n",
       "    .dataframe thead th {\n",
       "        text-align: right;\n",
       "    }\n",
       "</style>\n",
       "<table border=\"1\" class=\"dataframe\">\n",
       "  <thead>\n",
       "    <tr style=\"text-align: right;\">\n",
       "      <th></th>\n",
       "      <th>Reply</th>\n",
       "      <th>Upvote</th>\n",
       "      <th>Time</th>\n",
       "      <th>Key</th>\n",
       "      <th>Classification</th>\n",
       "      <th>positive</th>\n",
       "      <th>negative</th>\n",
       "    </tr>\n",
       "  </thead>\n",
       "  <tbody>\n",
       "    <tr>\n",
       "      <th>0</th>\n",
       "      <td>22 March 2020 Update:\\n\\n[The incentive has be...</td>\n",
       "      <td>1.0</td>\n",
       "      <td>2020-03-23 09:44:57</td>\n",
       "      <td>0.0</td>\n",
       "      <td>pos</td>\n",
       "      <td>0.569990</td>\n",
       "      <td>0.430010</td>\n",
       "    </tr>\n",
       "    <tr>\n",
       "      <th>1</th>\n",
       "      <td>Hi partners, checking in here from my doctor o...</td>\n",
       "      <td>80.0</td>\n",
       "      <td>2020-03-22 07:27:09</td>\n",
       "      <td>0.0</td>\n",
       "      <td>pos</td>\n",
       "      <td>0.518725</td>\n",
       "      <td>0.481275</td>\n",
       "    </tr>\n",
       "    <tr>\n",
       "      <th>2</th>\n",
       "      <td>Thank you for all your hard work keeping this ...</td>\n",
       "      <td>96.0</td>\n",
       "      <td>2020-03-22 05:09:09</td>\n",
       "      <td>0.0</td>\n",
       "      <td>pos</td>\n",
       "      <td>0.901818</td>\n",
       "      <td>0.098182</td>\n",
       "    </tr>\n",
       "    <tr>\n",
       "      <th>3</th>\n",
       "      <td>I mentioned this in another thread, but my sto...</td>\n",
       "      <td>34.0</td>\n",
       "      <td>2020-03-22 05:15:44</td>\n",
       "      <td>0.0</td>\n",
       "      <td>pos</td>\n",
       "      <td>0.709396</td>\n",
       "      <td>0.290604</td>\n",
       "    </tr>\n",
       "    <tr>\n",
       "      <th>4</th>\n",
       "      <td>Everyone in my store but one person took the l...</td>\n",
       "      <td>20.0</td>\n",
       "      <td>2020-03-22 06:26:28</td>\n",
       "      <td>0.0</td>\n",
       "      <td>pos</td>\n",
       "      <td>0.877318</td>\n",
       "      <td>0.122682</td>\n",
       "    </tr>\n",
       "    <tr>\n",
       "      <th>...</th>\n",
       "      <td>...</td>\n",
       "      <td>...</td>\n",
       "      <td>...</td>\n",
       "      <td>...</td>\n",
       "      <td>...</td>\n",
       "      <td>...</td>\n",
       "      <td>...</td>\n",
       "    </tr>\n",
       "    <tr>\n",
       "      <th>2931</th>\n",
       "      <td>A venerated Virginian (barista)?</td>\n",
       "      <td>7.0</td>\n",
       "      <td>2020-09-14 14:28:44</td>\n",
       "      <td>198.0</td>\n",
       "      <td>pos</td>\n",
       "      <td>0.500000</td>\n",
       "      <td>0.500000</td>\n",
       "    </tr>\n",
       "    <tr>\n",
       "      <th>2932</th>\n",
       "      <td>yall should just blast it during happy hour/do...</td>\n",
       "      <td>5.0</td>\n",
       "      <td>2020-09-14 14:54:39</td>\n",
       "      <td>198.0</td>\n",
       "      <td>pos</td>\n",
       "      <td>0.658605</td>\n",
       "      <td>0.341395</td>\n",
       "    </tr>\n",
       "    <tr>\n",
       "      <th>2933</th>\n",
       "      <td>BOOM goes the timer, watch the chai and steame...</td>\n",
       "      <td>4.0</td>\n",
       "      <td>2020-09-14 20:36:11</td>\n",
       "      <td>198.0</td>\n",
       "      <td>neg</td>\n",
       "      <td>0.003367</td>\n",
       "      <td>0.996633</td>\n",
       "    </tr>\n",
       "    <tr>\n",
       "      <th>2934</th>\n",
       "      <td>I scrolled down quickly and honestly I don't e...</td>\n",
       "      <td>3.0</td>\n",
       "      <td>2020-09-14 10:16:31</td>\n",
       "      <td>199.0</td>\n",
       "      <td>neg</td>\n",
       "      <td>0.225390</td>\n",
       "      <td>0.774610</td>\n",
       "    </tr>\n",
       "    <tr>\n",
       "      <th>2935</th>\n",
       "      <td>Ehwiaowowo i thought that was a koala.. oops</td>\n",
       "      <td>2.0</td>\n",
       "      <td>2020-09-14 16:13:37</td>\n",
       "      <td>199.0</td>\n",
       "      <td>neg</td>\n",
       "      <td>0.146962</td>\n",
       "      <td>0.853038</td>\n",
       "    </tr>\n",
       "  </tbody>\n",
       "</table>\n",
       "<p>2936 rows × 7 columns</p>\n",
       "</div>"
      ],
      "text/plain": [
       "                                                  Reply  Upvote  \\\n",
       "0     22 March 2020 Update:\\n\\n[The incentive has be...     1.0   \n",
       "1     Hi partners, checking in here from my doctor o...    80.0   \n",
       "2     Thank you for all your hard work keeping this ...    96.0   \n",
       "3     I mentioned this in another thread, but my sto...    34.0   \n",
       "4     Everyone in my store but one person took the l...    20.0   \n",
       "...                                                 ...     ...   \n",
       "2931                   A venerated Virginian (barista)?     7.0   \n",
       "2932  yall should just blast it during happy hour/do...     5.0   \n",
       "2933  BOOM goes the timer, watch the chai and steame...     4.0   \n",
       "2934  I scrolled down quickly and honestly I don't e...     3.0   \n",
       "2935       Ehwiaowowo i thought that was a koala.. oops     2.0   \n",
       "\n",
       "                     Time    Key Classification  positive  negative  \n",
       "0     2020-03-23 09:44:57    0.0            pos  0.569990  0.430010  \n",
       "1     2020-03-22 07:27:09    0.0            pos  0.518725  0.481275  \n",
       "2     2020-03-22 05:09:09    0.0            pos  0.901818  0.098182  \n",
       "3     2020-03-22 05:15:44    0.0            pos  0.709396  0.290604  \n",
       "4     2020-03-22 06:26:28    0.0            pos  0.877318  0.122682  \n",
       "...                   ...    ...            ...       ...       ...  \n",
       "2931  2020-09-14 14:28:44  198.0            pos  0.500000  0.500000  \n",
       "2932  2020-09-14 14:54:39  198.0            pos  0.658605  0.341395  \n",
       "2933  2020-09-14 20:36:11  198.0            neg  0.003367  0.996633  \n",
       "2934  2020-09-14 10:16:31  199.0            neg  0.225390  0.774610  \n",
       "2935  2020-09-14 16:13:37  199.0            neg  0.146962  0.853038  \n",
       "\n",
       "[2936 rows x 7 columns]"
      ]
     },
     "execution_count": 45,
     "metadata": {},
     "output_type": "execute_result"
    }
   ],
   "source": [
    "Comments_Textblob = pd.read_csv('StarbucksComments_TextBlobSentiment.csv')\n",
    "Comments_Textblob"
   ]
  },
  {
   "cell_type": "code",
   "execution_count": 46,
   "metadata": {},
   "outputs": [
    {
     "data": {
      "text/plain": [
       "<matplotlib.axes._subplots.AxesSubplot at 0x25bcee5bd60>"
      ]
     },
     "execution_count": 46,
     "metadata": {},
     "output_type": "execute_result"
    },
    {
     "data": {
      "image/png": "[encoded data removed]",
      "text/plain": [
       "<Figure size 432x288 with 1 Axes>"
      ]
     },
     "metadata": {},
     "output_type": "display_data"
    }
   ],
   "source": [
    "sns.distplot(Comments_Textblob[\"positive\"])"
   ]
  },
  {
   "cell_type": "code",
   "execution_count": 47,
   "metadata": {},
   "outputs": [
    {
     "data": {
      "text/plain": [
       "0.5653510162963103"
      ]
     },
     "execution_count": 47,
     "metadata": {},
     "output_type": "execute_result"
    }
   ],
   "source": [
    "Comments_Textblob[\"positive\"].mean()"
   ]
  },
  {
   "cell_type": "code",
   "execution_count": 48,
   "metadata": {},
   "outputs": [
    {
     "data": {
      "text/plain": [
       "<matplotlib.axes._subplots.AxesSubplot at 0x25bc6f07e20>"
      ]
     },
     "execution_count": 48,
     "metadata": {},
     "output_type": "execute_result"
    },
    {
     "data": {
      "image/png": "[encoded data removed]",
      "text/plain": [
       "<Figure size 432x288 with 1 Axes>"
      ]
     },
     "metadata": {},
     "output_type": "display_data"
    }
   ],
   "source": [
    "sns.distplot(Comments_Textblob[\"negative\"])"
   ]
  },
  {
   "cell_type": "code",
   "execution_count": 49,
   "metadata": {},
   "outputs": [
    {
     "data": {
      "text/plain": [
       "0.43464898370368993"
      ]
     },
     "execution_count": 49,
     "metadata": {},
     "output_type": "execute_result"
    }
   ],
   "source": [
    "Comments_Textblob[\"negative\"].mean()"
   ]
  },
  {
   "cell_type": "markdown",
   "metadata": {},
   "source": [
    "### Notes:\n",
    "\n",
    "- Data shows overall sentiment grades to be slightly positive\n",
    "- quick glance at classification could easily misinterperate overall sentiment grade is positive\n",
    "- Pie Chart would be good to visualise distribution of scores"
   ]
  },
  {
   "cell_type": "markdown",
   "metadata": {},
   "source": [
    "### 3.3 Using custom trained package (naive bayes sentiment classifier)"
   ]
  },
  {
   "cell_type": "code",
   "execution_count": 50,
   "metadata": {},
   "outputs": [],
   "source": [
    "from sklearn.model_selection import train_test_split # for splitting data to train and test\n",
    "\n",
    "from sklearn.feature_extraction.text import CountVectorizer, TfidfVectorizer # converting text into matrix\n",
    "from sklearn.naive_bayes import MultinomialNB # using Multinomial Naive bayes\n",
    "from sklearn import metrics\n",
    "from nltk.corpus import stopwords # for filtering out stop words in text\n",
    "from nltk.stem import PorterStemmer # for stemming words"
   ]
  },
  {
   "cell_type": "markdown",
   "metadata": {},
   "source": [
    "#####  Creating dataset with sentiment analysis results ()\n",
    "\n",
    "- To compare results with Vader Sentiment analysis package"
   ]
  },
  {
   "cell_type": "code",
   "execution_count": 51,
   "metadata": {},
   "outputs": [
    {
     "data": {
      "text/html": [
       "<div>\n",
       "<style scoped>\n",
       "    .dataframe tbody tr th:only-of-type {\n",
       "        vertical-align: middle;\n",
       "    }\n",
       "\n",
       "    .dataframe tbody tr th {\n",
       "        vertical-align: top;\n",
       "    }\n",
       "\n",
       "    .dataframe thead th {\n",
       "        text-align: right;\n",
       "    }\n",
       "</style>\n",
       "<table border=\"1\" class=\"dataframe\">\n",
       "  <thead>\n",
       "    <tr style=\"text-align: right;\">\n",
       "      <th></th>\n",
       "      <th>Reply</th>\n",
       "      <th>Upvote</th>\n",
       "      <th>Time</th>\n",
       "      <th>Key</th>\n",
       "      <th>neg</th>\n",
       "      <th>neu</th>\n",
       "      <th>pos</th>\n",
       "      <th>compound</th>\n",
       "    </tr>\n",
       "  </thead>\n",
       "  <tbody>\n",
       "    <tr>\n",
       "      <th>0</th>\n",
       "      <td>22 March 2020 Update The incentive has been an...</td>\n",
       "      <td>1.0</td>\n",
       "      <td>2020-03-23 09:44:57</td>\n",
       "      <td>0.0</td>\n",
       "      <td>0.153</td>\n",
       "      <td>0.719</td>\n",
       "      <td>0.128</td>\n",
       "      <td>-0.6487</td>\n",
       "    </tr>\n",
       "    <tr>\n",
       "      <th>1</th>\n",
       "      <td>Hi partners checking in here from my doctor or...</td>\n",
       "      <td>80.0</td>\n",
       "      <td>2020-03-22 07:27:09</td>\n",
       "      <td>0.0</td>\n",
       "      <td>0.062</td>\n",
       "      <td>0.798</td>\n",
       "      <td>0.140</td>\n",
       "      <td>0.9611</td>\n",
       "    </tr>\n",
       "    <tr>\n",
       "      <th>2</th>\n",
       "      <td>Thank you for all your hard work keeping this ...</td>\n",
       "      <td>96.0</td>\n",
       "      <td>2020-03-22 05:09:09</td>\n",
       "      <td>0.0</td>\n",
       "      <td>0.056</td>\n",
       "      <td>0.643</td>\n",
       "      <td>0.301</td>\n",
       "      <td>0.7269</td>\n",
       "    </tr>\n",
       "    <tr>\n",
       "      <th>3</th>\n",
       "      <td>I mentioned this in another thread but my stor...</td>\n",
       "      <td>34.0</td>\n",
       "      <td>2020-03-22 05:15:44</td>\n",
       "      <td>0.0</td>\n",
       "      <td>0.076</td>\n",
       "      <td>0.739</td>\n",
       "      <td>0.184</td>\n",
       "      <td>0.9050</td>\n",
       "    </tr>\n",
       "    <tr>\n",
       "      <th>4</th>\n",
       "      <td>Everyone in my store but one person took the l...</td>\n",
       "      <td>20.0</td>\n",
       "      <td>2020-03-22 06:26:28</td>\n",
       "      <td>0.0</td>\n",
       "      <td>0.155</td>\n",
       "      <td>0.845</td>\n",
       "      <td>0.000</td>\n",
       "      <td>-0.6310</td>\n",
       "    </tr>\n",
       "    <tr>\n",
       "      <th>...</th>\n",
       "      <td>...</td>\n",
       "      <td>...</td>\n",
       "      <td>...</td>\n",
       "      <td>...</td>\n",
       "      <td>...</td>\n",
       "      <td>...</td>\n",
       "      <td>...</td>\n",
       "      <td>...</td>\n",
       "    </tr>\n",
       "    <tr>\n",
       "      <th>2931</th>\n",
       "      <td>A venerated Virginian barista</td>\n",
       "      <td>7.0</td>\n",
       "      <td>2020-09-14 14:28:44</td>\n",
       "      <td>198.0</td>\n",
       "      <td>0.000</td>\n",
       "      <td>1.000</td>\n",
       "      <td>0.000</td>\n",
       "      <td>0.0000</td>\n",
       "    </tr>\n",
       "    <tr>\n",
       "      <th>2932</th>\n",
       "      <td>yall should just blast it during happy hourdou...</td>\n",
       "      <td>5.0</td>\n",
       "      <td>2020-09-14 14:54:39</td>\n",
       "      <td>198.0</td>\n",
       "      <td>0.000</td>\n",
       "      <td>0.802</td>\n",
       "      <td>0.198</td>\n",
       "      <td>0.5719</td>\n",
       "    </tr>\n",
       "    <tr>\n",
       "      <th>2933</th>\n",
       "      <td>BOOM goes the timer watch the chai and steamed...</td>\n",
       "      <td>4.0</td>\n",
       "      <td>2020-09-14 20:36:11</td>\n",
       "      <td>198.0</td>\n",
       "      <td>0.000</td>\n",
       "      <td>1.000</td>\n",
       "      <td>0.000</td>\n",
       "      <td>0.0000</td>\n",
       "    </tr>\n",
       "    <tr>\n",
       "      <th>2934</th>\n",
       "      <td>I scrolled down quickly and honestly I dont ev...</td>\n",
       "      <td>3.0</td>\n",
       "      <td>2020-09-14 10:16:31</td>\n",
       "      <td>199.0</td>\n",
       "      <td>0.000</td>\n",
       "      <td>0.750</td>\n",
       "      <td>0.250</td>\n",
       "      <td>0.7184</td>\n",
       "    </tr>\n",
       "    <tr>\n",
       "      <th>2935</th>\n",
       "      <td>Ehwiaowowo i thought that was a koala oops</td>\n",
       "      <td>2.0</td>\n",
       "      <td>2020-09-14 16:13:37</td>\n",
       "      <td>199.0</td>\n",
       "      <td>0.000</td>\n",
       "      <td>1.000</td>\n",
       "      <td>0.000</td>\n",
       "      <td>0.0000</td>\n",
       "    </tr>\n",
       "  </tbody>\n",
       "</table>\n",
       "<p>2936 rows × 8 columns</p>\n",
       "</div>"
      ],
      "text/plain": [
       "                                                  Reply  Upvote  \\\n",
       "0     22 March 2020 Update The incentive has been an...     1.0   \n",
       "1     Hi partners checking in here from my doctor or...    80.0   \n",
       "2     Thank you for all your hard work keeping this ...    96.0   \n",
       "3     I mentioned this in another thread but my stor...    34.0   \n",
       "4     Everyone in my store but one person took the l...    20.0   \n",
       "...                                                 ...     ...   \n",
       "2931                      A venerated Virginian barista     7.0   \n",
       "2932  yall should just blast it during happy hourdou...     5.0   \n",
       "2933  BOOM goes the timer watch the chai and steamed...     4.0   \n",
       "2934  I scrolled down quickly and honestly I dont ev...     3.0   \n",
       "2935         Ehwiaowowo i thought that was a koala oops     2.0   \n",
       "\n",
       "                     Time    Key    neg    neu    pos  compound  \n",
       "0     2020-03-23 09:44:57    0.0  0.153  0.719  0.128   -0.6487  \n",
       "1     2020-03-22 07:27:09    0.0  0.062  0.798  0.140    0.9611  \n",
       "2     2020-03-22 05:09:09    0.0  0.056  0.643  0.301    0.7269  \n",
       "3     2020-03-22 05:15:44    0.0  0.076  0.739  0.184    0.9050  \n",
       "4     2020-03-22 06:26:28    0.0  0.155  0.845  0.000   -0.6310  \n",
       "...                   ...    ...    ...    ...    ...       ...  \n",
       "2931  2020-09-14 14:28:44  198.0  0.000  1.000  0.000    0.0000  \n",
       "2932  2020-09-14 14:54:39  198.0  0.000  0.802  0.198    0.5719  \n",
       "2933  2020-09-14 20:36:11  198.0  0.000  1.000  0.000    0.0000  \n",
       "2934  2020-09-14 10:16:31  199.0  0.000  0.750  0.250    0.7184  \n",
       "2935  2020-09-14 16:13:37  199.0  0.000  1.000  0.000    0.0000  \n",
       "\n",
       "[2936 rows x 8 columns]"
      ]
     },
     "execution_count": 51,
     "metadata": {},
     "output_type": "execute_result"
    }
   ],
   "source": [
    "Comments_Vader = pd.read_csv('StarbucksComments_VaderSentiment.csv')\n",
    "Comments_Vader"
   ]
  },
  {
   "cell_type": "markdown",
   "metadata": {},
   "source": [
    "##### Cleaning Data for training"
   ]
  },
  {
   "cell_type": "code",
   "execution_count": 52,
   "metadata": {},
   "outputs": [],
   "source": [
    "Comments_Vader.dropna(subset=['Reply'], inplace=True)"
   ]
  },
  {
   "cell_type": "code",
   "execution_count": 53,
   "metadata": {},
   "outputs": [],
   "source": [
    "Comments_Vader.Reply = Comments.Reply.apply(lambda x: re.sub(r'[^\\w\\s]', '', x) ) "
   ]
  },
  {
   "cell_type": "code",
   "execution_count": 54,
   "metadata": {},
   "outputs": [],
   "source": [
    "stopwords = stopwords.words('english')\n",
    "Comments_Vader.Reply = Comments_Vader.Reply.apply(\n",
    "    lambda x: ' '.join([word for word in nltk.word_tokenize(x) if word.lower() not in stopwords])\n",
    ")"
   ]
  },
  {
   "cell_type": "code",
   "execution_count": 55,
   "metadata": {},
   "outputs": [],
   "source": [
    "Comments_Vader.Reply = Comments_Vader.Reply.apply(lambda x: re.sub(r'\\(?http\\S+', '', x))"
   ]
  },
  {
   "cell_type": "code",
   "execution_count": 56,
   "metadata": {},
   "outputs": [],
   "source": [
    "lemmatizer = nltk.WordNetLemmatizer()"
   ]
  },
  {
   "cell_type": "code",
   "execution_count": 57,
   "metadata": {},
   "outputs": [],
   "source": [
    "Comments_Vader.Reply = Comments_Vader.Reply.apply(lambda x: ' '.join([lemmatizer.lemmatize(word) for word in nltk.word_tokenize(x)]))"
   ]
  },
  {
   "cell_type": "markdown",
   "metadata": {},
   "source": [
    "##### Transforming text to Matrix"
   ]
  },
  {
   "cell_type": "code",
   "execution_count": 58,
   "metadata": {},
   "outputs": [],
   "source": [
    "vectorizer = CountVectorizer()"
   ]
  },
  {
   "cell_type": "code",
   "execution_count": 59,
   "metadata": {},
   "outputs": [],
   "source": [
    "Comments.dropna(subset=['Reply'], inplace=True)\n",
    "X = vectorizer.fit_transform(Comments_Vader.Reply)"
   ]
  },
  {
   "cell_type": "code",
   "execution_count": 60,
   "metadata": {},
   "outputs": [
    {
     "ename": "ValueError",
     "evalue": "Unknown label type: (array([-0.6487,  0.9611,  0.7269, ...,  0.    ,  0.7184,  0.    ]),)",
     "output_type": "error",
     "traceback": [
      "\u001b[1;31m---------------------------------------------------------------------------\u001b[0m",
      "\u001b[1;31mValueError\u001b[0m                                Traceback (most recent call last)",
      "\u001b[1;32m<ipython-input-60-1a3306b11731>\u001b[0m in \u001b[0;36m<module>\u001b[1;34m\u001b[0m\n\u001b[0;32m      2\u001b[0m \u001b[1;33m\u001b[0m\u001b[0m\n\u001b[0;32m      3\u001b[0m \u001b[1;31m#nb.fit(features_matrix, item_we_want_to_predict)\u001b[0m\u001b[1;33m\u001b[0m\u001b[1;33m\u001b[0m\u001b[1;33m\u001b[0m\u001b[0m\n\u001b[1;32m----> 4\u001b[1;33m \u001b[0mnb\u001b[0m\u001b[1;33m.\u001b[0m\u001b[0mfit\u001b[0m\u001b[1;33m(\u001b[0m\u001b[0mX\u001b[0m\u001b[1;33m,\u001b[0m \u001b[0mComments_Vader\u001b[0m\u001b[1;33m.\u001b[0m\u001b[0mcompound\u001b[0m\u001b[1;33m)\u001b[0m\u001b[1;33m\u001b[0m\u001b[1;33m\u001b[0m\u001b[0m\n\u001b[0m",
      "\u001b[1;32mC:\\ProgramData\\Anaconda3\\lib\\site-packages\\sklearn\\naive_bayes.py\u001b[0m in \u001b[0;36mfit\u001b[1;34m(self, X, y, sample_weight)\u001b[0m\n\u001b[0;32m    618\u001b[0m \u001b[1;33m\u001b[0m\u001b[0m\n\u001b[0;32m    619\u001b[0m         \u001b[0mlabelbin\u001b[0m \u001b[1;33m=\u001b[0m \u001b[0mLabelBinarizer\u001b[0m\u001b[1;33m(\u001b[0m\u001b[1;33m)\u001b[0m\u001b[1;33m\u001b[0m\u001b[1;33m\u001b[0m\u001b[0m\n\u001b[1;32m--> 620\u001b[1;33m         \u001b[0mY\u001b[0m \u001b[1;33m=\u001b[0m \u001b[0mlabelbin\u001b[0m\u001b[1;33m.\u001b[0m\u001b[0mfit_transform\u001b[0m\u001b[1;33m(\u001b[0m\u001b[0my\u001b[0m\u001b[1;33m)\u001b[0m\u001b[1;33m\u001b[0m\u001b[1;33m\u001b[0m\u001b[0m\n\u001b[0m\u001b[0;32m    621\u001b[0m         \u001b[0mself\u001b[0m\u001b[1;33m.\u001b[0m\u001b[0mclasses_\u001b[0m \u001b[1;33m=\u001b[0m \u001b[0mlabelbin\u001b[0m\u001b[1;33m.\u001b[0m\u001b[0mclasses_\u001b[0m\u001b[1;33m\u001b[0m\u001b[1;33m\u001b[0m\u001b[0m\n\u001b[0;32m    622\u001b[0m         \u001b[1;32mif\u001b[0m \u001b[0mY\u001b[0m\u001b[1;33m.\u001b[0m\u001b[0mshape\u001b[0m\u001b[1;33m[\u001b[0m\u001b[1;36m1\u001b[0m\u001b[1;33m]\u001b[0m \u001b[1;33m==\u001b[0m \u001b[1;36m1\u001b[0m\u001b[1;33m:\u001b[0m\u001b[1;33m\u001b[0m\u001b[1;33m\u001b[0m\u001b[0m\n",
      "\u001b[1;32mC:\\ProgramData\\Anaconda3\\lib\\site-packages\\sklearn\\preprocessing\\_label.py\u001b[0m in \u001b[0;36mfit_transform\u001b[1;34m(self, y)\u001b[0m\n\u001b[0;32m    458\u001b[0m             \u001b[0mShape\u001b[0m \u001b[0mwill\u001b[0m \u001b[0mbe\u001b[0m \u001b[1;33m[\u001b[0m\u001b[0mn_samples\u001b[0m\u001b[1;33m,\u001b[0m \u001b[1;36m1\u001b[0m\u001b[1;33m]\u001b[0m \u001b[1;32mfor\u001b[0m \u001b[0mbinary\u001b[0m \u001b[0mproblems\u001b[0m\u001b[1;33m.\u001b[0m\u001b[1;33m\u001b[0m\u001b[1;33m\u001b[0m\u001b[0m\n\u001b[0;32m    459\u001b[0m         \"\"\"\n\u001b[1;32m--> 460\u001b[1;33m         \u001b[1;32mreturn\u001b[0m \u001b[0mself\u001b[0m\u001b[1;33m.\u001b[0m\u001b[0mfit\u001b[0m\u001b[1;33m(\u001b[0m\u001b[0my\u001b[0m\u001b[1;33m)\u001b[0m\u001b[1;33m.\u001b[0m\u001b[0mtransform\u001b[0m\u001b[1;33m(\u001b[0m\u001b[0my\u001b[0m\u001b[1;33m)\u001b[0m\u001b[1;33m\u001b[0m\u001b[1;33m\u001b[0m\u001b[0m\n\u001b[0m\u001b[0;32m    461\u001b[0m \u001b[1;33m\u001b[0m\u001b[0m\n\u001b[0;32m    462\u001b[0m     \u001b[1;32mdef\u001b[0m \u001b[0mtransform\u001b[0m\u001b[1;33m(\u001b[0m\u001b[0mself\u001b[0m\u001b[1;33m,\u001b[0m \u001b[0my\u001b[0m\u001b[1;33m)\u001b[0m\u001b[1;33m:\u001b[0m\u001b[1;33m\u001b[0m\u001b[1;33m\u001b[0m\u001b[0m\n",
      "\u001b[1;32mC:\\ProgramData\\Anaconda3\\lib\\site-packages\\sklearn\\preprocessing\\_label.py\u001b[0m in \u001b[0;36mfit\u001b[1;34m(self, y)\u001b[0m\n\u001b[0;32m    435\u001b[0m \u001b[1;33m\u001b[0m\u001b[0m\n\u001b[0;32m    436\u001b[0m         \u001b[0mself\u001b[0m\u001b[1;33m.\u001b[0m\u001b[0msparse_input_\u001b[0m \u001b[1;33m=\u001b[0m \u001b[0msp\u001b[0m\u001b[1;33m.\u001b[0m\u001b[0missparse\u001b[0m\u001b[1;33m(\u001b[0m\u001b[0my\u001b[0m\u001b[1;33m)\u001b[0m\u001b[1;33m\u001b[0m\u001b[1;33m\u001b[0m\u001b[0m\n\u001b[1;32m--> 437\u001b[1;33m         \u001b[0mself\u001b[0m\u001b[1;33m.\u001b[0m\u001b[0mclasses_\u001b[0m \u001b[1;33m=\u001b[0m \u001b[0munique_labels\u001b[0m\u001b[1;33m(\u001b[0m\u001b[0my\u001b[0m\u001b[1;33m)\u001b[0m\u001b[1;33m\u001b[0m\u001b[1;33m\u001b[0m\u001b[0m\n\u001b[0m\u001b[0;32m    438\u001b[0m         \u001b[1;32mreturn\u001b[0m \u001b[0mself\u001b[0m\u001b[1;33m\u001b[0m\u001b[1;33m\u001b[0m\u001b[0m\n\u001b[0;32m    439\u001b[0m \u001b[1;33m\u001b[0m\u001b[0m\n",
      "\u001b[1;32mC:\\ProgramData\\Anaconda3\\lib\\site-packages\\sklearn\\utils\\multiclass.py\u001b[0m in \u001b[0;36munique_labels\u001b[1;34m(*ys)\u001b[0m\n\u001b[0;32m     95\u001b[0m     \u001b[0m_unique_labels\u001b[0m \u001b[1;33m=\u001b[0m \u001b[0m_FN_UNIQUE_LABELS\u001b[0m\u001b[1;33m.\u001b[0m\u001b[0mget\u001b[0m\u001b[1;33m(\u001b[0m\u001b[0mlabel_type\u001b[0m\u001b[1;33m,\u001b[0m \u001b[1;32mNone\u001b[0m\u001b[1;33m)\u001b[0m\u001b[1;33m\u001b[0m\u001b[1;33m\u001b[0m\u001b[0m\n\u001b[0;32m     96\u001b[0m     \u001b[1;32mif\u001b[0m \u001b[1;32mnot\u001b[0m \u001b[0m_unique_labels\u001b[0m\u001b[1;33m:\u001b[0m\u001b[1;33m\u001b[0m\u001b[1;33m\u001b[0m\u001b[0m\n\u001b[1;32m---> 97\u001b[1;33m         \u001b[1;32mraise\u001b[0m \u001b[0mValueError\u001b[0m\u001b[1;33m(\u001b[0m\u001b[1;34m\"Unknown label type: %s\"\u001b[0m \u001b[1;33m%\u001b[0m \u001b[0mrepr\u001b[0m\u001b[1;33m(\u001b[0m\u001b[0mys\u001b[0m\u001b[1;33m)\u001b[0m\u001b[1;33m)\u001b[0m\u001b[1;33m\u001b[0m\u001b[1;33m\u001b[0m\u001b[0m\n\u001b[0m\u001b[0;32m     98\u001b[0m \u001b[1;33m\u001b[0m\u001b[0m\n\u001b[0;32m     99\u001b[0m     \u001b[0mys_labels\u001b[0m \u001b[1;33m=\u001b[0m \u001b[0mset\u001b[0m\u001b[1;33m(\u001b[0m\u001b[0mchain\u001b[0m\u001b[1;33m.\u001b[0m\u001b[0mfrom_iterable\u001b[0m\u001b[1;33m(\u001b[0m\u001b[0m_unique_labels\u001b[0m\u001b[1;33m(\u001b[0m\u001b[0my\u001b[0m\u001b[1;33m)\u001b[0m \u001b[1;32mfor\u001b[0m \u001b[0my\u001b[0m \u001b[1;32min\u001b[0m \u001b[0mys\u001b[0m\u001b[1;33m)\u001b[0m\u001b[1;33m)\u001b[0m\u001b[1;33m\u001b[0m\u001b[1;33m\u001b[0m\u001b[0m\n",
      "\u001b[1;31mValueError\u001b[0m: Unknown label type: (array([-0.6487,  0.9611,  0.7269, ...,  0.    ,  0.7184,  0.    ]),)"
     ]
    }
   ],
   "source": [
    "nb = MultinomialNB()\n",
    "\n",
    "#nb.fit(features_matrix, item_we_want_to_predict)\n",
    "nb.fit(X, Comments_Vader.compound)"
   ]
  },
  {
   "cell_type": "code",
   "execution_count": null,
   "metadata": {},
   "outputs": [],
   "source": []
  }
 ],
 "metadata": {
  "kernelspec": {
   "display_name": "Python 3",
   "language": "python",
   "name": "python3"
  },
  "language_info": {
   "codemirror_mode": {
    "name": "ipython",
    "version": 3
   },
   "file_extension": ".py",
   "mimetype": "text/x-python",
   "name": "python",
   "nbconvert_exporter": "python",
   "pygments_lexer": "ipython3",
   "version": "3.8.3"
  }
 },
 "nbformat": 4,
 "nbformat_minor": 4
}
